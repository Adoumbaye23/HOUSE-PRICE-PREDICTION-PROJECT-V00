




















import matplotlib.pyplot as plt
import missingno as msno
import numpy as np
import pandas as pd
import scipy as sp
import seaborn as sns
from ydata_profiling import ProfileReport
from sklearn import set_config
from scipy.stats.mstats import winsorize
from sklearn.compose import ColumnTransformer, make_column_selector
from sklearn.impute import SimpleImputer
from sklearn.linear_model import LinearRegression, Ridge, RidgeCV, Lasso, ElasticNet
from sklearn.metrics import (r2_score,
                             mean_squared_error,
                             mean_absolute_percentage_error,
                             max_error,
                            )
from sklearn.model_selection import train_test_split, GridSearchCV, cross_validate
from sklearn.pipeline import make_pipeline, Pipeline
from sklearn.preprocessing import StandardScaler, OneHotEncoder,OrdinalEncoder

set_config(display="diagram", print_changed_only=False)

pd.set_option('display.max_columns', None)
pd.set_option('display.max_colwidth', None)





data= pd.read_csv("../data/train.csv", sep=";")
data.head(3)


data = data.drop('Id', axis=1)

data





# dimension
data.shape





# dictionnaire des variables
data.info()





# Sélectionner uniquement les colonnes numériques
colonnes_numeriques = data.select_dtypes(include=['number'])

# Calculer les statistiques descriptives pour les colonnes numériques
colonnes_numeriques.describe()


# Sélectionner les colonnes qualitatives
colonnes_qualitatives = data.select_dtypes(include=['object'])
# Obtenir les statistiques descriptives des variables qualitatives
colonnes_qualitatives.describe()





data= data.copy()


missing_percentage_x = (data['SalePrice'].isnull().sum() / len(data)) * 100
print(f"Le pourcentage de valeurs manquantes pour la variable cible est : {missing_percentage_x:.2f}%")



fig, axes = plt.subplots(nrows=1, ncols=2, figsize=(15, 4))
y=data.SalePrice
sns.histplot(y, color='r', kde=True, ax=axes[0])
axes[0].set_title('Distribution of house prices')

log_y = np.log(y)
sns.histplot(log_y, color='b', kde=True, ax=axes[1])
axes[1].set_title('Distribution of house prices in $log$ scale')
axes[1].set_xscale('log');










# Calculer la répartition des types de bâtiments
building_counts = data['BldgType'].value_counts()

# Créer le diagramme en secteurs
plt.figure(figsize=(20,10))
plt.pie(building_counts, labels=building_counts.index, autopct='%1.1f%%', startangle=140, colors=plt.cm.Set3.colors)

# Ajouter le titre
plt.title('Répartition des types de bâtiments (BldgType)')

# Ajouter la légende
plt.legend(building_counts.index, title='Types de bâtiments', loc='best')

# Afficher le graphique
plt.show()




# Calculer la répartition des zones résidentielles
zone_counts = data['MSZoning'].value_counts()

# Créer le diagramme en secteurs
plt.figure(figsize=(20, 12))
plt.pie(zone_counts,
        labels=zone_counts.index,
        autopct='%1.1f%%',
        startangle=140,
        colors=plt.cm.Paired.colors,
        textprops={'fontsize': 20})  # Taille de la police pour les étiquettes

# Ajouter le titre
plt.title('Répartition des zones résidentielles (MSZoning)', fontsize=20)  # Taille du titre

# Ajouter la légende
plt.legend(zone_counts.index, title='Zones résidentielles', loc='best', fontsize=14, title_fontsize=20)  # Taille des textes et titre de la légende

# Afficher le graphique
plt.show()



plt.figure(figsize=(20, 12))
sns.countplot(y=data['Neighborhood'],
              order=data['Neighborhood'].value_counts().index,
              palette='coolwarm')
plt.title('Nombre de maisons par quartier', fontsize=20)
plt.xlabel('Nombre de maisons', fontsize=16)
plt.ylabel('Quartier', fontsize=16)
plt.yticks(fontsize=25)
plt.show()





plt.figure(figsize=(10, 6))
sns.histplot(data['LotArea'], bins=30, kde=True, color='skyblue')
plt.title('Distribution de la superficie du terrain')
plt.xlabel('Superficie du terrain (pieds carrés)')
plt.ylabel('Fréquence')
plt.show()



plt.figure(figsize=(18, 10))  # Augmenter la taille du graphique
sns.boxplot(x=data['Neighborhood'], y=data['SalePrice'], palette="coolwarm")  # Ajouter une palette de couleurs

# Ajouter un titre et des labels avec une taille plus grande
#plt.title('Quartier vs Prix de vente', fontsize=20)
plt.xlabel('Quartier', fontsize=16)
plt.ylabel('Prix de vente ($)', fontsize=16)

# Rotation et taille des étiquettes des quartiers
plt.xticks(rotation=45, fontsize=14)

plt.show()



plt.figure(figsize=(12, 6))
sns.boxplot(x=data['OverallQual'], y=data['SalePrice'])
plt.title('Qualité générale vs Prix de vente')
plt.xlabel('Qualité générale')
plt.ylabel('Prix de vente ($)')
plt.show()



plt.figure(figsize=(10, 6))
sns.scatterplot(x=data['GrLivArea'], y=data['SalePrice'])
#plt.title('Relation entre la surface habitable et le prix de vente', fontsize=12)
plt.xlabel('Surface habitable au-dessus du sol (pieds carrés)', fontsize=25)
plt.ylabel('Prix de vente ($)', fontsize=25)
plt.show()



sns.catplot(kind="box", x='HouseStyle', y=log_y, hue='Heating',
            data=data, palette='rainbow', height=6, aspect=2);


#graphique de dispersion où l'axe X représente la superficie du sous-sol (TotalBsmtSF), l'axe Y représente la variable log_y
#(une transformation logaritmique de votre variable cible),
#et chaque point est coloré selon le style de la maison (HouseStyle).
plt.figure(figsize=(14, 8))  # Augmenter la taille du graphique

# Créer le scatterplot avec des ajustements
sns.scatterplot(x='TotalBsmtSF',
                y=log_y,
                data=data,
                hue='HouseStyle',
                palette='magma',
                s=70,  # Taille des points
                alpha=0.8)  # Transparence des points

# Ajouter un titre et des labels avec une taille augmentée
plt.title('Surface totale du sous-sol vs Prix de vente (log)', fontsize=20)
plt.xlabel('Surface totale du sous-sol (pieds carrés)', fontsize=16)
plt.ylabel('Prix de vente (log)', fontsize=16)

# Agrandir les étiquettes des axes
plt.xticks(fontsize=12)
plt.yticks(fontsize=12)

# Ajouter une légende claire
plt.legend(title='Style de maison', fontsize=12, title_fontsize=14, loc='upper left')

plt.show()







# Liste des colonnes souhaitées
variables_pertinentes = [
    'SalePrice','MSSubClass', 'MSZoning', 'LotFrontage', 'LotArea', 'Street', 'Alley',
    'LotShape', 'LandContour', 'Utilities', 'LotConfig', 'LandSlope',
    'Neighborhood', 'Condition1', 'Condition2', 'BldgType', 'HouseStyle',
    'OverallQual', 'OverallCond', 'YearBuilt', 'YearRemodAdd', 'RoofStyle',
    'RoofMatl', 'Exterior1st', 'Exterior2nd', 'MasVnrType', 'MasVnrArea',
    'ExterQual', 'ExterCond', 'Foundation', 'BsmtQual', 'BsmtCond',
    'BsmtExposure', 'BsmtFinType1', 'BsmtFinSF1', 'BsmtFinType2',
    'BsmtFinSF2', 'BsmtUnfSF', 'TotalBsmtSF', 'Heating', 'HeatingQC',
    'CentralAir', 'Electrical', '1stFlrSF', '2ndFlrSF', 'LowQualFinSF',
    'GrLivArea', 'BsmtFullBath', 'BsmtHalfBath', 'FullBath', 'HalfBath'
]

# Sélection des colonnes souhaitées
data = data[variables_pertinentes]

# Affichage des premières lignes du data
data.head(5)



# Calcul de la matrice de corrélation pour les colonnes numériques
corr = data.select_dtypes(include=[np.number]).corr(method="pearson")

# Création d'un masque pour la partie supérieure de la matrice
mask = np.triu(np.ones_like(corr, dtype=bool))

# Configuration de la taille de la figure
plt.figure(figsize=(30, 20))

# Création de la carte thermique sans annotations
sns.heatmap(corr, cmap='Greens', annot=False, square=True,
            mask=mask, cbar=True, vmin=-1, vmax=1)

# Ajout du titre
plt.title('Matrice de Corrélation des Variables Numériques', fontsize=18)

# Affichage du graphique
plt.show()


correlation_matrix = data.corr(numeric_only=True)
plt.figure(figsize=(15,12))
sns.heatmap(correlation_matrix, annot=True, cmap='coolwarm', fmt=".2f")





# Calculer le pourcentage de valeurs manquantes pour chaque colonne
missing_percentage = (data.isnull().sum() / len(data)) * 100

# Identifier les colonnes avec plus de 50% de valeurs manquantes
colonnes_a_supprimer = missing_percentage[missing_percentage > 40].index

# Supprimer ces colonnes du DataFrame
data = data.drop(columns=colonnes_a_supprimer)

data




# Configuration de la taille de la figure
plt.figure(figsize=(20, 10))
# Visualtisation des NAs
msno.matrix(data)


msno.bar(data)


# nombre de valeurs manquantes sur les variables retenues
data.isna().sum().sort_values(ascending=False)





# Generate a profile report from a Dataset stored as a pandas `DataFrame`.
profile = ProfileReport(data, title="Profiling Report")
profile.to_notebook_iframe()
profile.to_file("../ressource/data_report.html")  # Write the report to a file.















# Identification des colonnes quantitatives (numériques)
colonnes_quantitatives = data.select_dtypes(include=['number']).columns

# Identification des colonnes qualitatives (catégorielles)
colonnes_qualitatives = data.select_dtypes(include=['object']).columns

# Création de l'imputeur pour les variables quantitatives (médiane)
imputer_quant = SimpleImputer(strategy='median')

# Application de l'imputeur sur les colonnes quantitatives
data[colonnes_quantitatives] = imputer_quant.fit_transform(data[colonnes_quantitatives])

# Création de l'imputeur pour les variables qualitatives (mode)
imputer_qual = SimpleImputer(strategy='most_frequent')

# Application de l'imputeur sur les colonnes qualitatives
data[colonnes_qualitatives] = imputer_qual.fit_transform(data[colonnes_qualitatives])

# Vérification des valeurs manquantes restantes
print(data.isnull().sum())


# Configuration de la taille de la figure
plt.figure(figsize=(20, 10))
# Génération du graphique des valeurs manquantes avec des barres bleues
msno.bar(data, color='green', fontsize=12)

# Affichage du graphique
plt.show()








data.info()





# Sélection des colonnes numériques
colonnes_numeriques = data.select_dtypes(include=[np.number]).columns

# Détermination du nombre de colonnes et de lignes pour les subplots
nombre_colonnes = 6  # Nombre de boxplots par ligne
nombre_lignes = int(np.ceil(len(colonnes_numeriques) / nombre_colonnes))

# Création de la figure et des axes
fig, axes = plt.subplots(nombre_lignes, nombre_colonnes, figsize=(20, 5 * nombre_lignes))
axes = axes.flatten()  # Aplatir le tableau d'axes pour une itération facile

# Création des boxplots pour chaque variable numérique
for i, col in enumerate(colonnes_numeriques):
    sns.boxplot(data=data, x=col, ax=axes[i], color='skyblue')
    axes[i].set_title(f'Boxplot de {col}')
    axes[i].set_xlabel('')  # Masquer le label de l'axe x pour plus de clarté

# Suppression des axes inutilisés si le nombre de variables n'est pas un multiple de nombre_colonnes
for j in range(i + 1, len(axes)):
    fig.delaxes(axes[j])

# Ajustement de l'espacement entre les subplots
plt.tight_layout()
plt.show()








# Calcul de l'IQR pour chaque colonne numérique
Q1 = data[colonnes_numeriques].quantile(0.25)
Q3 = data[colonnes_numeriques].quantile(0.75)
IQR = Q3 - Q1

# Identification des valeurs aberrantes
valeurs_aberrantes_iqr = ((data[colonnes_numeriques] < (Q1 - 1.5 * IQR)) | (data[colonnes_numeriques] > (Q3 + 1.5 * IQR)))

# Nombre de valeurs aberrantes détectées
nombre_valeurs_aberrantes = valeurs_aberrantes_iqr.sum().sum()
print(f"Nombre de valeurs aberrantes détectées avec IQR: {nombre_valeurs_aberrantes}")



# Affichage des résultats pour chaque variable
for col in colonnes_numeriques:
    print(f"Variable: {col}")
    print(f"  Q1: {Q1[col]}")
    print(f"  Q3: {Q3[col]}")
    print(f"  IQR: {IQR[col]}")
    print(f"  Nombre de valeurs aberrantes: {valeurs_aberrantes_iqr[col].sum()}")
    print("-" * 40)



# liste des colonnes ayant des valeurs aberrantes
seuil_inf = Q1 - 1.5 * IQR
seuil_sup = Q3 + 1.5 * IQR
colonnes_avec_aberrantes = [
    col for col in colonnes_numeriques
    if (data[col] < seuil_inf[col]).any() or (data[col] > seuil_sup[col]).any()
]
print(colonnes_avec_aberrantes)









colonnes_a_winsoriser = ['SalePrice', 'MSSubClass', 'LotFrontage', 'LotArea', 'OverallQual', 'OverallCond', 'YearBuilt', 'MasVnrArea', 'BsmtFinSF1', 'BsmtFinSF2', 'BsmtUnfSF', 'TotalBsmtSF', '1stFlrSF', '2ndFlrSF', 'LowQualFinSF', 'GrLivArea', 'BsmtFullBath', 'BsmtHalfBath']
for col in colonnes_a_winsoriser:
    data[col] = winsorize(data[col], limits=[0.05, 0.05])






# Sélection des colonnes numériques
colonnes_numeriques = data.select_dtypes(include=[np.number]).columns

# Détermination du nombre de colonnes et de lignes pour les subplots
nombre_colonnes = 6  # Nombre de boxplots par ligne
nombre_lignes = int(np.ceil(len(colonnes_numeriques) / nombre_colonnes))

# Création de la figure et des axes
fig, axes = plt.subplots(nombre_lignes, nombre_colonnes, figsize=(20, 5 * nombre_lignes))
axes = axes.flatten()  # Aplatir le tableau d'axes pour une itération facile

# Création des boxplots pour chaque variable numérique
for i, col in enumerate(colonnes_numeriques):
    sns.boxplot(data=data, x=col, ax=axes[i], color='green')
    axes[i].set_title(f'Boxplot de {col}')
    axes[i].set_xlabel('')  # Masquer le label de l'axe x pour plus de clarté

# Suppression des axes inutilisés si le nombre de variables n'est pas un multiple de nombre_colonnes
for j in range(i + 1, len(axes)):
    fig.delaxes(axes[j])

# Ajustement de l'espacement entre les subplots
plt.tight_layout()
plt.show()





data['SalePrice'] = np.log1p(data['SalePrice'])


data.dtypes[data.dtypes=='object']


data.dtypes[data.dtypes !='object']


def affiche_label(data):
        #################### Labellisation des variables catégotielles
        # Dictionnaires pour les variables catégorielles
    mapp = {
        "QualityScale": {
            'Ex': "Excellent",
            'Gd': "Bon",
            'TA': "Moyen/Typique",
            'Fa': "Médiocre",
            'Po': "Mauvais",
            'No': "Non applicable"
        },

        "ConditionScale": {
            10: "Très excellent",
            9: "Excellent",
            8: "Très bon",
            7: "Bon",
            6: "Au-dessus de la moyenne",
            5: "Moyenne",
            4: "En dessous de la moyenne",
            3: "Médiocre",
            2: "Mauvais",
            1: "Très mauvais"
        },

        # Dictionnaires spécifiques
        "MSSubClass": {
            20: "1 ÉTAGE 1946 ET PLUS RÉCENT - TOUS STYLES",
            30: "1 ÉTAGE 1945 ET PLUS ANCIEN",
            40: "1 ÉTAGE AVEC GRENIER AMÉNAGÉ - TOUS ÂGES",
            45: "1 ÉTAGE ET DEMI - NON AMÉNAGÉ - TOUS ÂGES",
            50: "1 ÉTAGE ET DEMI - AMÉNAGÉ - TOUS ÂGES",
            60: "2 ÉTAGES 1946 ET PLUS RÉCENT",
            70: "2 ÉTAGES 1945 ET PLUS ANCIEN",
            75: "2 ÉTAGES ET DEMI - TOUS ÂGES",
            80: "NIVEAUX MULTIPLES OU PARTIELS",
            85: "FOYER DIVISÉ",
            90: "DUPLEX - TOUS STYLES ET ÂGES",
            120: "1 ÉTAGE PUD (Lotissement planifié) - 1946 ET PLUS RÉCENT",
            150: "1 ÉTAGE ET DEMI PUD - TOUS ÂGES",
            160: "2 ÉTAGES PUD - 1946 ET PLUS RÉCENT",
            180: "PUD MULTI-NIVEAUX - INCLUT NIVEAUX DIVISÉS",
            190: "CONVERSION 2 FAMILLES - TOUS STYLES ET ÂGES"
        },

        "MSZoning": {
            'A': "Agriculture",
            'C (all)': "Commercial",
            'FV': "Résidentiel flottant",
            'I': "Industriel",
            'RH': "Résidentiel haute densité",
            'RL': "Résidentiel basse densité",
            'RP': "Résidentiel basse densité (parc)",
            'RM': "Résidentiel densité moyenne"
        },

        "Street": {
            'Grvl': "Gravier",
            'Pave': "Pavé"
        },

        "Alley": {
            'Grvl': "Gravier",
            'Pave': "Pavé",
            'No': "Pas d'accès à une allée"
        },

        "LotShape": {
            'Reg': "Régulier",
            'IR1': "Légèrement irrégulier",
            'IR2': "Modérément irrégulier",
            'IR3': "Irrégulier"
        },

        "LandContour": {
            'Lvl': "Plat/Niveau",
            'Bnk': "Bordure - Montée rapide",
            'HLS': "En pente - Forte inclinaison",
            'Low': "Dépression"
        },

        "Utilities": {
            'AllPub': "Tous les services publics (Électricité, Gaz, Eau, Égout)",
            'NoSewr': "Électricité, Gaz, Eau (Fosse septique)",
            'NoSeWa': "Électricité et Gaz uniquement",
            'ELO': "Électricité uniquement"
        },

        "LotConfig": {
            'Inside': "Lot intérieur",
            'Corner': "Lot d'angle",
            'CulDSac': "Cul-de-sac",
            'FR2': "Double façade",
            'FR3': "Triple façade"
        },

        "LandSlope": {
            'Gtl': "Pente douce",
            'Mod': "Pente modérée",
            'Sev': "Pente sévère"
        },

        "Neighborhood": {
            'Blmngtn': "Bloomington Heights",
            'Blueste': "Bluestem",
            'BrDale': "Briardale",
            'BrkSide': "Brookside",
            'ClearCr': "Clear Creek",
            'CollgCr': "College Creek",
            'Crawfor': "Crawford",
            'Edwards': "Edwards",
            'Gilbert': "Gilbert",
            'IDOTRR': "Iowa DOT et chemin de fer",
            'MeadowV': "Meadow Village",
            'Mitchel': "Mitchell",
            'NAmes': "North Ames",
            'NoRidge': "Northridge",
            'NPkVill': "Northpark Villa",
            'NridgHt': "Northridge Heights",
            'NWAmes': "Northwest Ames",
            'OldTown': "Vieille Ville",
            'SWISU': "Sud et Ouest de l'Université d'État de l'Iowa",
            'Sawyer': "Sawyer",
            'SawyerW': "Sawyer Ouest",
            'Somerst': "Somerset",
            'StoneBr': "Stone Brook",
            'Timber': "Timberland",
            'Veenker': "Veenker"
        },

        "Condition1": {
            'Artery': "Proche d'une artère principale",
            'Feedr': "Proche d'une route secondaire",
            'Norm': "Normale",
            'RRNn': "À moins de 200 pieds d'une voie ferrée nord-sud",
            'RRAn': "Adjacente à une voie ferrée nord-sud",
            'PosN': "Proche d'un espace vert ou parc",
            'PosA': "Adjacente à un espace vert ou parc",
            'RRNe': "À moins de 200 pieds d'une voie ferrée est-ouest",
            'RRAe': "Adjacente à une voie ferrée est-ouest"
        },

        "Condition2": {
            'Artery': "Proche d'une artère principale",
            'Feedr': "Proche d'une route secondaire",
            'Norm': "Normale",
            'RRNn': "À moins de 200 pieds d'une voie ferrée nord-sud",
            'RRAn': "Adjacente à une voie ferrée nord-sud",
            'PosN': "Proche d'un espace vert ou parc",
            'PosA': "Adjacente à un espace vert ou parc",
            'RRNe': "À moins de 200 pieds d'une voie ferrée est-ouest",
            'RRAe': "Adjacente à une voie ferrée est-ouest"
        },

        "BldgType": {
            '1Fam': "Maison individuelle",
            '2fmCon': "Conversion deux familles",
            'Duplex': "Duplex",
            'TwnhsE': "Maison de ville (bout)",
            'Twnhs': "Maison de ville (intérieur)"
        },

        "HouseStyle": {
            '1Story': "Un étage",
            '1.5Fin': "Un étage et demi, aménagé",
            '1.5Unf': "Un étage et demi, non aménagé",
            '2Story': "Deux étages",
            '2.5Fin': "Deux étages et demi, aménagé",
            '2.5Unf': "Deux étages et demi, non aménagé",
            'SFoyer': "Foyer divisé",
            'SLvl': "Niveaux divisés"
        },

        "FireplaceQu": {
            'Ex': "Excellent - Cheminée en maçonnerie exceptionnelle",
            'Gd': "Bon - Cheminée en maçonnerie au rez-de-chaussée",
            'TA': "Moyen - Préfabriquée ou en maçonnerie au sous-sol",
            'Fa': "Médiocre - Préfabriquée au sous-sol",
            'Po': "Mauvais - Poêle de type Ben Franklin",
            'No': "Pas de cheminée"
        },

        "Fence": {
            'GdPrv': "Bonne intimité",
            'MnPrv': "Intimité minimale",
            'GdWo': "Bonne qualité en bois",
            'MnWw': "Qualité minimale en bois/fil",
            'No': "Pas de clôture"
        },

        "PoolQC": {
            'Ex': "Excellent",
            'Gd': "Bon",
            'TA': "Moyen",
            'Fa': "Médiocre",
            'Po': "Mauvais",
            'No': "Non applicable"
        },

        "ExterQual": {
            'Ex': "Excellent",
            'Gd': "Bon",
            'TA': "Moyen",
            'Fa': "Médiocre",
            'Po': "Mauvais",
            'No': "Non applicable"
        },

        "ExterCond": {
            'Ex': "Excellent",
            'Gd': "Bon",
            'TA': "Moyen",
            'Fa': "Médiocre",
            'Po': "Mauvais",
            'No': "Non applicable"
        },

        "BsmtQual": {
            'Ex': "Excellent",
            'Gd': "Bon",
            'TA': "Moyen",
            'Fa': "Médiocre",
            'Po': "Mauvais",
            'No': "Non applicable"
        },

        "BsmtCond": {
            'Ex': "Excellent",
            'Gd': "Bon",
            'TA': "Moyen",
            'Fa': "Médiocre",
            'Po': "Mauvais",
            'No': "Non applicable"
        },

        "HeatingQC": {
            'Ex': "Excellent",
            'Gd': "Bon",
            'TA': "Moyen",
            'Fa': "Médiocre",
            'Po': "Mauvais",
            'No': "Non applicable"
        },

        "KitchenQual": {
            'Ex': "Excellent",
            'Gd': "Bon",
            'TA': "Moyen",
            'Fa': "Médiocre",
            'Po': "Mauvais",
            'No': "Non applicable"
        },

        "GarageQual": {
            'Ex': "Excellent",
            'Gd': "Bon",
            'TA': "Moyen",
            'Fa': "Médiocre",
            'Po': "Mauvais",
            'No': "Non applicable"
        },

        "GarageCond": {
            'Ex': "Excellent",
            'Gd': "Bon",
            'TA': "Moyen",
            'Fa': "Médiocre",
            'Po': "Mauvais",
            'No': "Non applicable"
        },

        "OverallQual": {
            10: "Très excellent",
            9: "Excellent",
            8: "Très bon",
            7: "Bon",
            6: "Au-dessus de la moyenne",
            5: "Moyenne",
            4: "En dessous de la moyenne",
            3: "Médiocre",
            2: "Mauvais",
            1: "Très mauvais"
        },

        "OverallCond": {
            10: "Très excellent",
            9: "Excellent",
            8: "Très bon",
            7: "Bon",
            6: "Au-dessus de la moyenne",
            5: "Moyenne",
            4: "En dessous de la moyenne",
            3: "Médiocre",
            2: "Mauvais",
            1: "Très mauvais"
        },
        "RoofStyle": {
            'Gable': "Pignon",
            'Hip': "Pente",
            'Mansard': "Mansardé",
            'Flat': "Plat",
            'Shed': "Abri",
            'Gambrel': 'Gabriel (grange)'
        },

        "RoofMatl": {
            'ClyTile': 'Tuile ou argile',
            'CompShg': 'Bardeau composite standard',
            'Membran': 'Membrane',
            'Metal': 'Métal',
            'Roll': 'Rouleau',
            'Tar&Grv': 'Gravier et bitume',
            'WdShake': 'Bardeau de bois',
            'WdShngl': 'Bardeau en bois'
        },

        "Exterior1st": {
            'AsbShng': 'Bardeaux en amiante',
            'AsphShn': 'Bardeaux en asphalte',
            'BrkComm': 'Brique commune',
            'BrkFace': 'Brique apparente',
            'CBlock': 'Bloc de béton',
            'CemntBd': 'Panneau de ciment',
            'HdBoard': 'Panneau dur',
            'ImStucc': 'Stuc imitation',
            'MetalSd': 'Revêtement métallique',
            'Other': 'Autre',
            'Plywood': 'Contreplaqué',
            'PreCast': 'Préfabriqué',
            'Stone': 'Pierre',
            'Stucco': 'Stuc',
            'VinylSd': 'Revêtement en vinyle',
            'Wd Sdng': 'Revêtement en bois',
            'WdShing': 'Bardeaux en bois'
        },
        "Exterior2nd": {
            'AsbShng': 'Bardeaux en amiante',
            'AsphShn': 'Bardeaux en asphalte',
            'Brk Cmn': 'Brique commune',
            'BrkFace': 'Brique apparente',
            'CBlock': 'Bloc de béton',
            'CmentBd': 'Panneau de ciment',
            'HdBoard': 'Panneau dur',
            'ImStucc': 'Stuc imitation',
            'MetalSd': 'Revêtement métallique',
            'Other': 'Autre',
            'Plywood': 'Contreplaqué',
            'PreCast': 'Préfabriqué',
            'Stone': 'Pierre',
            'Stucco': 'Stuc',
            'VinylSd': 'Revêtement en vinyle',
            'Wd Sdng': 'Revêtement en bois',
            'WdShing': 'Bardeaux en bois'
        },

        "MasVnrType": {
            'BrkFace': "Briques en façade",
            'Stone': "Pierre",
            'No': "Aucune",
            'BrkCmn': "Briques communes"
        },

        "Heating": {
            'GasA': 'Chauffage à gaz',
            'Grav': 'Gravité',
            'Wall': 'Chauffage mural',
            'GasW': 'Chauffage à gaz (chaudière)',
            'Floor': 'Chauffage par le sol',
            'OthW': 'Chauffage à eau chaude ou vapeur (autre que gaz)'
        },

        "Electrical": {
            'SBrkr': 'Disjoncteurs',
            'FuseA': 'Fusibles anciens',
            'FuseF': 'Fusibles',
            'FuseP': 'Fusibles et câblage de mauvaise qualité',
            'Mix': 'Mixte',
            'CircuitBreakers': 'Disjoncteurs modernes',
        },

        "BsmtExposure": {
            'No': "Aucune exposition",
            'Gd': "Bonne exposition",
            'Mn': "Exposition moyenne",
            'Av': "Exposition au niveau moyen"
        },

        "BsmtFinType1": {
            'GLQ': "Fini - Excellent",
            'ALQ': "Fini - Moyenne",
            'BLQ': "Partiellement fini",
            'Unf': "Non fini",
            'Rec': "Fini - Salle de jeux",
            'LwQ': "Fini - Qualité inférieure"
        },

        "GarageType": {
            '2Types': 'Plus d\'un type de garage',
            'Attchd': 'Attaché à la maison',
            'Basment': 'Garage au sous-sol',
            'BuiltIn': 'Garage intégré (fait partie de la maison, souvent avec une pièce au-dessus)',
            'CarPort': 'Abris voiture',
            'Detchd': 'Détaché de la maison',
            'No': 'Pas de garage'
        },
        "GarageFinish": {
            'Fin': "Aménagé",
            'RFn': "Partiellement aménagé",
            'Unf': "Non aménagé",
            'No': "Pas de garage"
        },
        "SaleType": {
            'WD': 'Acte de garantie - Conventionnel',
            'CWD': 'Acte de garantie - Espèces',
            'VWD': 'Acte de garantie - Prêt VA',
            'New': 'Maison neuve construite et vendue',
            'COD': 'Acte de l\'officier judiciaire/Etat',
            'Con': 'Contrat - 15% acompte, conditions normales',
            'ConLw': 'Contrat - Acompte faible et faible taux d\'intérêt',
            'ConLI': 'Contrat - Faible taux d\'intérêt',
            'ConLD': 'Contrat - Acompte faible',
            'Oth': 'Autre'
        },

        "SaleCondition": {
            'Normal': 'Vente normale',
            'Abnorml': 'Vente anormale',
            'AdjLand': 'Achat terrain adjoint',
            'Alloca': 'Allocation (propriétés liées)',
            'Family': 'Vente entre membres de la famille',
            'Partial': 'Maison incomplète'
        },

        "CentralAir": {
            'Y': "Oui",
            'N': "Non"
        },

        "PavedDrive": {
            'Y': "Pavé",
            'P': "Pavement partiel",
            'N': "Gravier/Terre"
        },

        "MoSold": {
            1: "Janvier",
            2: "Février",
            3: "Mars",
            4: "Avril",
            5: "Mai",
            6: "Juin",
            7: "Juillet",
            8: "Août",
            9: "Septembre",
            10: "Octobre",
            11: "Novembre",
            12: "Décembre"
        }

}

    for el in data.columns:
        if el in mapp:  # Vérifier si la colonne est dans le dictionnaire
            data[el] = data[el].map(mapp[el])
        else:
            print(el)

    ####### Renommage des colonnes ########################
    labels = {
        'Id': 'Identifiant',
        'MSSubClass': 'Type de logement',
        'MSZoning': 'Zonage (Classification)',
        'LotFrontage': 'Façade (en pieds)',
        'LotArea': 'Superficie du lot (pieds²)',
        'Street': 'Type de route',
        'Alley': 'Accès à une allée',
        'LotShape': 'Forme du lot',
        'LandContour': 'Topographie du terrain',
        'Utilities': 'Services publics disponibles',
        'LotConfig': 'Configuration du lot',
        'LandSlope': 'Inclinaison du terrain',
        'Neighborhood': 'Quartier',
        'Condition1': 'Proximité (1ère condition)',
        'Condition2': 'Proximité (2e condition)',
        'BldgType': 'Type de bâtiment',
        'HouseStyle': 'Style de maison',
        'OverallQual': 'Qualité globale',
        'OverallCond': 'État général',
        'YearBuilt': 'Année de construction',
        'YearRemodAdd': 'Année de rénovation',
        'RoofStyle': 'Style de toit',
        'RoofMatl': 'Matériau du toit',
        'Exterior1st': 'Revêtement extérieur (1)',
        'Exterior2nd': 'Revêtement extérieur (2)',
        'MasVnrType': 'Type de parement en maçonnerie',
        'MasVnrArea': 'Surface de parement (pieds²)',
        'ExterQual': 'Qualité extérieure',
        'ExterCond': 'État extérieur',
        'Foundation': 'Type de fondation',
        'BsmtQual': 'Qualité du sous-sol',
        'BsmtCond': 'État général du sous-sol',
        'BsmtExposure': 'Exposition du sous-sol',
        'BsmtFinType1': 'Type de finition sous-sol (1)',
        'BsmtFinSF1': 'Surface finie sous-sol',
        'BsmtFinType2': 'Type de finition sous-sol (2)',
        'BsmtFinSF2': 'Surface finie sous-sol 2',
        'BsmtUnfSF': 'Surface non finie sous-sol',
        'TotalBsmtSF': 'Total surface sous-sol',
        'Heating': 'Type de chauffage',
        'HeatingQC': 'Qualité du chauffage',
        'CentralAir': 'Climatisation centrale',
        'Electrical': 'Système électrique',
        '1stFlrSF': 'Surface du premier étage',
        '2ndFlrSF': 'Surface du deuxième étage',
        'LowQualFinSF': 'Surface finie basse qualité (pieds²)',
        'GrLivArea': 'Surface habitable totale',
        'BsmtFullBath': 'Salles de bain complètes sous-sol',
        'BsmtHalfBath': 'Demi-salles de bain sous-sol',
        'FullBath': 'Salles de bain complètes',
        'HalfBath': 'Demi-salles de bain',
        'BedroomAbvGr': 'Chambres (hors sous-sol)',
        'KitchenAbvGr': 'Cuisines (hors sous-sol)',
        'KitchenQual': 'Qualité de la cuisine',
        'TotRmsAbvGrd': 'Total des pièces (hors sous-sol)',
        'Functional': 'Fonctionnalité globale',
        'Fireplaces': 'Nombre de cheminées',
        'FireplaceQu': 'Qualité de la cheminée',
        'GarageType': 'Type de garage',
        'GarageYrBlt': 'Année de construction du garage',
        'GarageFinish': 'Finition intérieure du garage',
        'GarageCars': 'Capacité du garage (voitures)',
        'GarageArea': 'Surface du garage',
        'GarageQual': 'Qualité du garage',
        'GarageCond': 'Condition du garage',
        'PavedDrive': 'Allée pavée',
        'WoodDeckSF': 'Surface du deck en bois',
        'OpenPorchSF': 'Surface du porche ouvert',
        'EnclosedPorch': 'Porche fermé',
        '3SsnPorch': 'Porche trois saisons',
        'ScreenPorch': 'Porche screen',
        'PoolArea': 'Surface de la piscine (pieds²)',
        'PoolQC': 'Qualité de la piscine',
        'Fence': 'Clôture',
        'MiscFeature': 'Caractéristiques supplémentaires',
        'MiscVal': 'Valeur des caractéristiques supplémentaires',
        'MoSold': 'Mois de vente',
        'YrSold': 'Année de vente',
        'SaleType': 'Type de vente',
        'SaleCondition': 'Condition de la vente',
        'SalePrice': 'Prix de vente',
        'houseage': 'Âge de la maison',
        'houseremodelage': 'Rénovation de la maison',
        'totalsf': 'Surface totale (pieds²)',
        'totalarea': 'Surface totale',
        'totalbaths': 'Total des salles de bain',
        'totalporchsf': 'Surface totale des porches (pieds²)'
    }

    for ancien_nom, nouveau_nom in labels.items():
        if ancien_nom in data.columns:
            data = data.rename(columns={ancien_nom: nouveau_nom})

    return data


data.Exterior2nd.unique()


data_to_label=data


data_labelled=affiche_label(data_to_label)


data_labelled.head()





data_labelled.info()


# Save the DataFrame to a CSV file
data_labelled.to_csv('../data/data_apuree.csv', index=False) # Add this line to save the DataFrame
