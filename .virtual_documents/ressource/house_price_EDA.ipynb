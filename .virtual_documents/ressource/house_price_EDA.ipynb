























import pandas as pd
import numpy as np
from scipy import stats
import matplotlib.pyplot as plt
import seaborn as sns
import missingno as msno
from ydata_profiling import ProfileReport

import joblib

import matplotlib.pyplot as plt
import seaborn as sns

from sklearn.model_selection import train_test_split, GridSearchCV, cross_val_score
from sklearn.compose import make_column_transformer, ColumnTransformer
from sklearn.pipeline import Pipeline, make_pipeline
from sklearn.impute import SimpleImputer
from sklearn.preprocessing import OrdinalEncoder, StandardScaler, OneHotEncoder

from sklearn.linear_model import LinearRegression, Ridge, Lasso,ElasticNet
from sklearn.ensemble import RandomForestRegressor, GradientBoostingRegressor, VotingRegressor, StackingRegressor
from xgboost import XGBRegressor
from catboost import CatBoostRegressor
import lightgbm as lgb
from yellowbrick.regressor import ResidualsPlot
import missingno as msno





train_df = pd.read_csv('../data/train.csv',sep=";")


train_df.shape











train_df.describe()





num=train_df.dtypes[train_df.dtypes != 'object']
num


num.count()


train_df.columns





msno.bar(train_df, figsize=(34, 24))
plt.yticks(rotation=45)  # Rotation des étiquettes de l'axe X
plt.show()





plt.scatter(x='MSSubClass', y='SalePrice', data=train_df)
#tit





plt.scatter(x='LotFrontage', y='SalePrice', data=train_df)





train_df.query('LotFrontage > 300')
#Drop 935, 1299





plt.scatter(x='LotArea', y='SalePrice', data=train_df)





train_df.query('LotArea > 55000')
# 250, 314, 336, 707
#maybe 1397


stats.zscore(train_df['LotArea']).sort_values().tail(10)





plt.scatter(x='OverallQual', y='SalePrice', data=train_df)


train_df.query('OverallQual == 10')
#maybe 524





plt.scatter(x='OverallCond', y='SalePrice', data=train_df)


train_df.query('OverallCond == 2')
#379


train_df.query('OverallCond == 5 & SalePrice > 700000')
#1183


train_df.query('OverallCond == 6 & SalePrice > 700000')
#692





plt.scatter(x='YearBuilt', y='SalePrice', data=train_df)


train_df.query('YearBuilt < 1900 & SalePrice > 400000')
#186





plt.scatter(x='YearRemodAdd', y='SalePrice', data=train_df)


train_df.query('YearRemodAdd < 1970 & SalePrice > 300000')
#314





plt.scatter(x='MasVnrArea', y='SalePrice', data=train_df)


train_df.query('MasVnrArea > 1500')
#298





plt.scatter(x='BsmtFinSF1', y='SalePrice', data=train_df)


train_df.query('BsmtFinSF1 > 5000')
#1299





plt.scatter(x='BsmtFinSF2', y='SalePrice', data=train_df)


train_df.query('BsmtFinSF2 > 400 & SalePrice > 500000')
#441





plt.scatter(x='BsmtUnfSF', y='SalePrice', data=train_df)





plt.scatter(x='TotalBsmtSF', y='SalePrice', data=train_df)


train_df.query('TotalBsmtSF > 5000')
#1299





plt.scatter(x='1stFlrSF', y='SalePrice', data=train_df)





plt.scatter(x='2ndFlrSF', y='SalePrice', data=train_df)





plt.scatter(x='LowQualFinSF', y='SalePrice', data=train_df)


train_df.query('LowQualFinSF > 500')
#186





plt.scatter(x='GrLivArea', y='SalePrice', data=train_df)


train_df.query('GrLivArea > 4400')
#524, 1299





plt.scatter(x='BsmtFullBath', y='SalePrice', data=train_df)


train_df.query('BsmtFullBath == 3')
#739





plt.scatter(x=train_df['BsmtHalfBath'], y=train_df['SalePrice'], color='blue', alpha=0.6)
plt.title('Relation entre BsmtHalfBath et SalePrice', fontsize=16)
plt.xlabel('Nombre de demi-bains au sous-sol', fontsize=12)
plt.ylabel('Prix de vente', fontsize=12)
plt.show()


stats.zscore(train_df['BsmtHalfBath']).unique()


train_df.query('BsmtHalfBath == 2')
#598, 955





plt.scatter(x='FullBath', y='SalePrice', data=train_df)





plt.scatter(x='HalfBath', y='SalePrice', data=train_df)





plt.scatter(x='BedroomAbvGr', y='SalePrice', data=train_df)


train_df.query('BedroomAbvGr == 8')
#636





plt.scatter(x='KitchenAbvGr', y='SalePrice', data=train_df)


train_df.query('KitchenAbvGr == 3')
#49, 810





plt.scatter(x='TotRmsAbvGrd', y='SalePrice', data=train_df)


train_df.query('TotRmsAbvGrd == 14')
#636





plt.scatter(x='Fireplaces', y='SalePrice', data=train_df)





plt.scatter(x='GarageYrBlt', y='SalePrice', data=train_df)


plt.scatter(x='GarageCars', y='SalePrice', data=train_df)


plt.scatter(x='GarageArea', y='SalePrice', data=train_df)


train_df.query('GarageArea > 1200')
#1062, 1191


plt.scatter(x='WoodDeckSF', y='SalePrice', data=train_df)


plt.scatter(x='OpenPorchSF', y='SalePrice', data=train_df)


train_df.query('OpenPorchSF > 500')
#496


plt.scatter(x='EnclosedPorch', y='SalePrice', data=train_df)


train_df.query('EnclosedPorch > 500')
#198


plt.scatter(x='3SsnPorch', y='SalePrice', data=train_df)


plt.scatter(x='ScreenPorch', y='SalePrice', data=train_df)


plt.scatter(x='PoolArea', y='SalePrice', data=train_df)


values = [598, 955, 935, 1299, 250, 314, 336, 707, 379, 1183, 692, 186, 441, 186, 524, 739, 598, 955, 636, 1062, 1191, 496, 198, 1338]


train_df = train_df[train_df.Id.isin(values) == False]


na_viz=pd.DataFrame(train_df.isnull().sum().sort_values(ascending=False))
na_viz[na_viz[0] != 0]


na_viz=na_viz[na_viz[0] != 0]
# Créer un graphique en barres
plt.figure(figsize=(12, 8))
sns.barplot(x=na_viz.index, y=na_viz[0], palette="viridis")

# Ajouter des labels et un titre
plt.title('Nombre de données manquantes par variables conténant des données manquantes', fontsize=16)
plt.xlabel('Variables', fontsize=14)
plt.ylabel('Nombre de valeurs manquantes', fontsize=12)
plt.xticks(rotation=45)  # Rotation des noms de colonnes pour une meilleure lisibilité
plt.tight_layout()

# Afficher le graphique
plt.show()


train_df['MiscFeature'].unique()


train_df['Alley'].unique()


train_df['Alley']=train_df['Alley'].fillna('No')


sns.catplot(data=train_df, x="Alley", y="SalePrice", kind="box")


train_df['Fence'].unique()


train_df['Fence']=train_df['Fence'].fillna('No')


sns.catplot(data=train_df, x="Fence", y="SalePrice", kind="box")


train_df['MasVnrType'].unique()


train_df['MasVnrType']=train_df['MasVnrType'].fillna('No')


sns.catplot(data=train_df, x="MasVnrType", y="SalePrice", kind="box")


train_df['MasVnrArea']=train_df['MasVnrArea'].fillna(0)



train_df['FireplaceQu'].unique()


train_df['FireplaceQu']=train_df['FireplaceQu'].fillna('No')


sns.catplot(data=train_df, x="FireplaceQu", y="SalePrice", kind="box")


sns.catplot(data=train_df, x="Fireplaces", y="SalePrice", kind="box")


train_df['LotFrontage']=train_df['LotFrontage'].fillna(0)


train_df['GarageYrBlt'].corr(train_df['YearBuilt'])


train_df['GarageCond'].unique()


train_df['GarageCond']=train_df['GarageCond'].fillna('No')


sns.catplot(data=train_df, x="GarageCond", y="SalePrice", kind="box")


train_df['GarageType']=train_df['GarageType'].fillna('No')


sns.catplot(data=train_df, x="GarageType", y="SalePrice", kind="box")


train_df['GarageFinish']=train_df['GarageFinish'].fillna('No')


sns.catplot(data=train_df, x="GarageFinish", y="SalePrice", kind="box")


train_df['GarageQual']=train_df['GarageQual'].fillna('No')


sns.catplot(data=train_df, x="GarageQual", y="SalePrice", kind="box")


train_df['BsmtFinType2'].unique()


train_df['BsmtFinType2']=train_df['BsmtFinType2'].fillna('Unf')


sns.catplot(data=train_df, x="BsmtFinType2", y="SalePrice", kind="box")


train_df['BsmtExposure'].unique()


train_df['BsmtExposure']=train_df['BsmtExposure'].fillna('No')


sns.catplot(data=train_df, x="BsmtExposure", y="SalePrice", kind="box")


train_df['BsmtQual'].unique()


train_df['BsmtQual']=train_df['BsmtQual'].fillna('No')


sns.catplot(data=train_df, x="BsmtQual", y="SalePrice", kind="box")


train_df['BsmtCond'].unique()


train_df['BsmtCond']=train_df['BsmtCond'].fillna('No')


sns.catplot(data=train_df, x="BsmtCond", y="SalePrice", kind="box")


train_df['BsmtFinType1'].unique()


train_df['BsmtFinType1']=train_df['BsmtFinType1'].fillna('Unf')


sns.catplot(data=train_df, x="BsmtFinType1", y="SalePrice", kind="box")


train_df['MasVnrArea']=train_df['MasVnrArea'].fillna(0)


train_df['Electrical']=train_df['Electrical'].fillna('SBrkr')


msno.bar(train_df, figsize=(34, 24))
plt.yticks(rotation=45)  # Rotation des étiquettes de l'axe X
plt.show()


na_viz=pd.DataFrame(train_df.isnull().sum().sort_values(ascending=False))
na_viz=na_viz[na_viz[0] != 0]
# Créer un graphique en barres
plt.figure(figsize=(12, 8))
sns.barplot(x=na_viz.index, y=na_viz[0], palette="viridis")

# Ajouter des labels et un titre
plt.title('Nombre de données manquantes par variables conténant des données manquantes', fontsize=16)
plt.xlabel('Variables', fontsize=12)
plt.ylabel('Nombre de valeurs manquantes', fontsize=12)
plt.xticks(rotation=45)  # Rotation des noms de colonnes pour une meilleure lisibilité
plt.tight_layout()

# Afficher le graphique
plt.show()





train_df = train_df.drop(columns=['PoolQC', 'MiscFeature', 'Alley', 'Fence', 'GarageYrBlt', 'GarageCond', 'BsmtFinType2'])


# Remplacer "Wd Shng" par "Wd Sdng" dans Exterior2nd: 
train_df['Exterior2nd'] = train_df['Exterior2nd'].replace('Wd Shng', 'WdShing')


msno.bar(train_df, figsize=(30, 24))
plt.yticks(rotation=45)  # Rotation des étiquettes de l'axe X
plt.show()





train_df['houseage'] = train_df['YrSold'] - train_df['YearBuilt']


train_df['houseremodelage'] = train_df['YrSold'] - train_df['YearRemodAdd']


train_df['totalsf'] = train_df['1stFlrSF'] + train_df['2ndFlrSF'] + train_df['BsmtFinSF1'] + train_df['BsmtFinSF2']


train_df['totalarea'] = train_df['GrLivArea'] + train_df['TotalBsmtSF']


train_df['totalbaths'] = train_df['BsmtFullBath'] + train_df['FullBath'] + 0.5 * (train_df['BsmtHalfBath'] + train_df['HalfBath']) 


train_df['totalporchsf'] = train_df['OpenPorchSF'] + train_df['3SsnPorch'] + train_df['EnclosedPorch'] + train_df['ScreenPorch'] + train_df['WoodDeckSF']


train_df = train_df.drop(columns=['Id','YrSold', 'YearBuilt', 'YearRemodAdd', '1stFlrSF', '2ndFlrSF', 'BsmtFinSF1', 'BsmtFinSF2', 'GrLivArea', 'TotalBsmtSF','BsmtFullBath', 'FullBath', 'BsmtHalfBath', 'HalfBath', 'OpenPorchSF', '3SsnPorch', 'EnclosedPorch', 'ScreenPorch','WoodDeckSF'])


correlation_matrix = train_df.corr(numeric_only=True)
plt.figure(figsize=(20,12))
sns.heatmap(correlation_matrix, annot=True, cmap='coolwarm', fmt=".2f")


#drop GarageArea or GarageCars


train_df = train_df.drop(columns=['GarageArea'])


train_df['SalePrice'] = np.log1p(train_df['SalePrice'])


train_df.dtypes[train_df.dtypes=='object']


train_df.dtypes[train_df.dtypes !='object']


train_df.to_csv("../data/train_df.csv",index=False)


train_df_to_label=train_df





def affiche_label(data):
        #################### Labellisation des variables catégotielles
        # Dictionnaires pour les variables catégorielles
    mapp = {
        "QualityScale": {   
            'Ex': "Excellent",
            'Gd': "Bon",
            'TA': "Moyen/Typique",
            'Fa': "Médiocre",
            'Po': "Mauvais",
            'No': "Non applicable"
        },

        "ConditionScale": {
            10: "Très excellent",
            9: "Excellent",
            8: "Très bon",
            7: "Bon",
            6: "Au-dessus de la moyenne",
            5: "Moyenne",
            4: "En dessous de la moyenne",
            3: "Médiocre",
            2: "Mauvais",
            1: "Très mauvais"
        },

        # Dictionnaires spécifiques
        "MSSubClass": {
            20: "1 ÉTAGE 1946 ET PLUS RÉCENT - TOUS STYLES",
            30: "1 ÉTAGE 1945 ET PLUS ANCIEN",
            40: "1 ÉTAGE AVEC GRENIER AMÉNAGÉ - TOUS ÂGES",
            45: "1 ÉTAGE ET DEMI - NON AMÉNAGÉ - TOUS ÂGES",
            50: "1 ÉTAGE ET DEMI - AMÉNAGÉ - TOUS ÂGES",
            60: "2 ÉTAGES 1946 ET PLUS RÉCENT",
            70: "2 ÉTAGES 1945 ET PLUS ANCIEN",
            75: "2 ÉTAGES ET DEMI - TOUS ÂGES",
            80: "NIVEAUX MULTIPLES OU PARTIELS",
            85: "FOYER DIVISÉ",
            90: "DUPLEX - TOUS STYLES ET ÂGES",
            120: "1 ÉTAGE PUD (Lotissement planifié) - 1946 ET PLUS RÉCENT",
            150: "1 ÉTAGE ET DEMI PUD - TOUS ÂGES",
            160: "2 ÉTAGES PUD - 1946 ET PLUS RÉCENT",
            180: "PUD MULTI-NIVEAUX - INCLUT NIVEAUX DIVISÉS",
            190: "CONVERSION 2 FAMILLES - TOUS STYLES ET ÂGES"
        },

        "MSZoning": {  
            'A': "Agriculture",
            'C (all)': "Commercial",
            'FV': "Résidentiel flottant",
            'I': "Industriel",
            'RH': "Résidentiel haute densité",
            'RL': "Résidentiel basse densité",
            'RP': "Résidentiel basse densité (parc)",
            'RM': "Résidentiel densité moyenne"
        },

        "Street": { 
            'Grvl': "Gravier",
            'Pave': "Pavé"
        },

        "Alley": { 
            'Grvl': "Gravier",
            'Pave': "Pavé",
            'No': "Pas d'accès à une allée"
        },

        "LotShape": { 
            'Reg': "Régulier",
            'IR1': "Légèrement irrégulier",
            'IR2': "Modérément irrégulier",
            'IR3': "Irrégulier"
        },

        "LandContour": { 
            'Lvl': "Plat/Niveau",
            'Bnk': "Bordure - Montée rapide",
            'HLS': "En pente - Forte inclinaison",
            'Low': "Dépression"
        },

        "Utilities": { 
            'AllPub': "Tous les services publics (Électricité, Gaz, Eau, Égout)",
            'NoSewr': "Électricité, Gaz, Eau (Fosse septique)",
            'NoSeWa': "Électricité et Gaz uniquement",
            'ELO': "Électricité uniquement"
        },

        "LotConfig": { 
            'Inside': "Lot intérieur",
            'Corner': "Lot d'angle",
            'CulDSac': "Cul-de-sac",
            'FR2': "Double façade",
            'FR3': "Triple façade"
        },

        "LandSlope": { 
            'Gtl': "Pente douce",
            'Mod': "Pente modérée",
            'Sev': "Pente sévère"
        },

        "Neighborhood": { 
            'Blmngtn': "Bloomington Heights",
            'Blueste': "Bluestem",
            'BrDale': "Briardale",
            'BrkSide': "Brookside",
            'ClearCr': "Clear Creek",
            'CollgCr': "College Creek",
            'Crawfor': "Crawford",
            'Edwards': "Edwards",
            'Gilbert': "Gilbert",
            'IDOTRR': "Iowa DOT et chemin de fer",
            'MeadowV': "Meadow Village",
            'Mitchel': "Mitchell",
            'NAmes': "North Ames",
            'NoRidge': "Northridge",
            'NPkVill': "Northpark Villa",
            'NridgHt': "Northridge Heights",
            'NWAmes': "Northwest Ames",
            'OldTown': "Vieille Ville",
            'SWISU': "Sud et Ouest de l'Université d'État de l'Iowa",
            'Sawyer': "Sawyer",
            'SawyerW': "Sawyer Ouest",
            'Somerst': "Somerset",
            'StoneBr': "Stone Brook",
            'Timber': "Timberland",
            'Veenker': "Veenker"
        },

        "Condition1": { 
            'Artery': "Proche d'une artère principale",
            'Feedr': "Proche d'une route secondaire",
            'Norm': "Normale",
            'RRNn': "À moins de 200 pieds d'une voie ferrée nord-sud",
            'RRAn': "Adjacente à une voie ferrée nord-sud",
            'PosN': "Proche d'un espace vert ou parc",
            'PosA': "Adjacente à un espace vert ou parc",
            'RRNe': "À moins de 200 pieds d'une voie ferrée est-ouest",
            'RRAe': "Adjacente à une voie ferrée est-ouest"
        },

        "Condition2": {
            'Artery': "Proche d'une artère principale",
            'Feedr': "Proche d'une route secondaire",
            'Norm': "Normale",
            'RRNn': "À moins de 200 pieds d'une voie ferrée nord-sud",
            'RRAn': "Adjacente à une voie ferrée nord-sud",
            'PosN': "Proche d'un espace vert ou parc",
            'PosA': "Adjacente à un espace vert ou parc",
            'RRNe': "À moins de 200 pieds d'une voie ferrée est-ouest",
            'RRAe': "Adjacente à une voie ferrée est-ouest"
        },

        "BldgType": { 
            '1Fam': "Maison individuelle",
            '2fmCon': "Conversion deux familles",
            'Duplex': "Duplex",
            'TwnhsE': "Maison de ville (bout)",
            'Twnhs': "Maison de ville (intérieur)"
        },

        "HouseStyle": { 
            '1Story': "Un étage",
            '1.5Fin': "Un étage et demi, aménagé",
            '1.5Unf': "Un étage et demi, non aménagé",
            '2Story': "Deux étages",
            '2.5Fin': "Deux étages et demi, aménagé",
            '2.5Unf': "Deux étages et demi, non aménagé",
            'SFoyer': "Foyer divisé",
            'SLvl': "Niveaux divisés"
        },

        "FireplaceQu": { 
            'Ex': "Excellent - Cheminée en maçonnerie exceptionnelle",
            'Gd': "Bon - Cheminée en maçonnerie au rez-de-chaussée",
            'TA': "Moyen - Préfabriquée ou en maçonnerie au sous-sol",
            'Fa': "Médiocre - Préfabriquée au sous-sol",
            'Po': "Mauvais - Poêle de type Ben Franklin",
            'No': "Pas de cheminée"
        },

        "Fence": {  
            'GdPrv': "Bonne intimité",
            'MnPrv': "Intimité minimale",
            'GdWo': "Bonne qualité en bois",
            'MnWw': "Qualité minimale en bois/fil",
            'No': "Pas de clôture"
        },

        "PoolQC": {   
            'Ex': "Excellent",
            'Gd': "Bon",
            'TA': "Moyen",
            'Fa': "Médiocre",
            'Po': "Mauvais",
            'No': "Non applicable"
        },

        "ExterQual": { 
            'Ex': "Excellent",
            'Gd': "Bon",
            'TA': "Moyen",
            'Fa': "Médiocre",
            'Po': "Mauvais",
            'No': "Non applicable"
        },

        "ExterCond": { 
            'Ex': "Excellent",
            'Gd': "Bon",
            'TA': "Moyen",
            'Fa': "Médiocre",
            'Po': "Mauvais",
            'No': "Non applicable"
        },

        "BsmtQual": { 
            'Ex': "Excellent",
            'Gd': "Bon",
            'TA': "Moyen",
            'Fa': "Médiocre",
            'Po': "Mauvais",
            'No': "Non applicable"
        },

        "BsmtCond": { 
            'Ex': "Excellent",
            'Gd': "Bon",
            'TA': "Moyen",
            'Fa': "Médiocre",
            'Po': "Mauvais",
            'No': "Non applicable"
        },

        "HeatingQC": { 
            'Ex': "Excellent",
            'Gd': "Bon",
            'TA': "Moyen",
            'Fa': "Médiocre",
            'Po': "Mauvais",
            'No': "Non applicable"
        },

        "KitchenQual": { 
            'Ex': "Excellent",
            'Gd': "Bon",
            'TA': "Moyen",
            'Fa': "Médiocre",
            'Po': "Mauvais",
            'No': "Non applicable"
        },

        "GarageQual": { 
            'Ex': "Excellent",
            'Gd': "Bon",
            'TA': "Moyen",
            'Fa': "Médiocre",
            'Po': "Mauvais",
            'No': "Non applicable"
        },

        "GarageCond": { 
            'Ex': "Excellent",
            'Gd': "Bon",
            'TA': "Moyen",
            'Fa': "Médiocre",
            'Po': "Mauvais",
            'No': "Non applicable"
        },

        "OverallQual": { 
            10: "Très excellent",
            9: "Excellent",
            8: "Très bon",
            7: "Bon",
            6: "Au-dessus de la moyenne",
            5: "Moyenne",
            4: "En dessous de la moyenne",
            3: "Médiocre",
            2: "Mauvais",
            1: "Très mauvais"
        },

        "OverallCond": { 
            10: "Très excellent",
            9: "Excellent",
            8: "Très bon",
            7: "Bon",
            6: "Au-dessus de la moyenne",
            5: "Moyenne",
            4: "En dessous de la moyenne",
            3: "Médiocre",
            2: "Mauvais",
            1: "Très mauvais"
        },
        "RoofStyle": {
            'Gable': "Pignon",
            'Hip': "Pente",
            'Mansard': "Mansardé",
            'Flat': "Plat",
            'Shed': "Abri",
            'Gambrel': 'Gabriel (grange)'
        },
        
        "RoofMatl": {
            'ClyTile': 'Tuile ou argile',
            'CompShg': 'Bardeau composite standard',
            'Membran': 'Membrane',
            'Metal': 'Métal',
            'Roll': 'Rouleau',
            'Tar&Grv': 'Gravier et bitume',
            'WdShake': 'Bardeau de bois',
            'WdShngl': 'Bardeau en bois'
        },
        
        "Exterior1st": {
            'AsbShng': 'Bardeaux en amiante',
            'AsphShn': 'Bardeaux en asphalte',
            'BrkComm': 'Brique commune',
            'BrkFace': 'Brique apparente',
            'CBlock': 'Bloc de béton',
            'CemntBd': 'Panneau de ciment',
            'HdBoard': 'Panneau dur',
            'ImStucc': 'Stuc imitation',
            'MetalSd': 'Revêtement métallique',
            'Other': 'Autre',
            'Plywood': 'Contreplaqué',
            'PreCast': 'Préfabriqué',
            'Stone': 'Pierre',
            'Stucco': 'Stuc',
            'VinylSd': 'Revêtement en vinyle',
            'Wd Sdng': 'Revêtement en bois',
            'WdShing': 'Bardeaux en bois'
        },
        "Exterior2nd": {
            'AsbShng': 'Bardeaux en amiante',
            'AsphShn': 'Bardeaux en asphalte',
            'Brk Cmn': 'Brique commune',
            'BrkFace': 'Brique apparente',
            'CBlock': 'Bloc de béton',
            'CmentBd': 'Panneau de ciment',
            'HdBoard': 'Panneau dur',
            'ImStucc': 'Stuc imitation',
            'MetalSd': 'Revêtement métallique',
            'Other': 'Autre',
            'Plywood': 'Contreplaqué',
            'PreCast': 'Préfabriqué',
            'Stone': 'Pierre',
            'Stucco': 'Stuc',
            'VinylSd': 'Revêtement en vinyle',
            'Wd Sdng': 'Revêtement en bois',
            'WdShing': 'Bardeaux en bois'
        },
        
        "MasVnrType": {
            'BrkFace': "Briques en façade",
            'Stone': "Pierre",
            'No': "Aucune",
            'BrkCmn': "Briques communes"
        },
        
        "Heating": {
            'GasA': 'Chauffage à gaz',
            'Grav': 'Gravité',
            'Wall': 'Chauffage mural',
            'GasW': 'Chauffage à gaz (chaudière)',
            'Floor': 'Chauffage par le sol',
            'OthW': 'Chauffage à eau chaude ou vapeur (autre que gaz)'
        },
        
        "Electrical": {
            'SBrkr': 'Disjoncteurs',
            'FuseA': 'Fusibles anciens',
            'FuseF': 'Fusibles',
            'FuseP': 'Fusibles et câblage de mauvaise qualité',
            'Mix': 'Mixte',
            'CircuitBreakers': 'Disjoncteurs modernes',
        },
        
        "BsmtExposure": {
            'No': "Aucune exposition",
            'Gd': "Bonne exposition",
            'Mn': "Exposition moyenne",
            'Av': "Exposition au niveau moyen"
        },
        
        "BsmtFinType1": {
            'GLQ': "Fini - Excellent",
            'ALQ': "Fini - Moyenne",
            'BLQ': "Partiellement fini",
            'Unf': "Non fini",
            'Rec': "Fini - Salle de jeux",
            'LwQ': "Fini - Qualité inférieure"
        },
        
        "GarageType": {
            '2Types': 'Plus d\'un type de garage',
            'Attchd': 'Attaché à la maison',
            'Basment': 'Garage au sous-sol',
            'BuiltIn': 'Garage intégré (fait partie de la maison, souvent avec une pièce au-dessus)',
            'CarPort': 'Abris voiture',
            'Detchd': 'Détaché de la maison',
            'No': 'Pas de garage'
        },
        "GarageFinish": {
            'Fin': "Aménagé",
            'RFn': "Partiellement aménagé",
            'Unf': "Non aménagé",
            'No': "Pas de garage"
        },
        "SaleType": {
            'WD': 'Acte de garantie - Conventionnel',
            'CWD': 'Acte de garantie - Espèces',
            'VWD': 'Acte de garantie - Prêt VA',
            'New': 'Maison neuve construite et vendue',
            'COD': 'Acte de l\'officier judiciaire/Etat',
            'Con': 'Contrat - 15% acompte, conditions normales',
            'ConLw': 'Contrat - Acompte faible et faible taux d\'intérêt',
            'ConLI': 'Contrat - Faible taux d\'intérêt',
            'ConLD': 'Contrat - Acompte faible',
            'Oth': 'Autre'
        },

        "SaleCondition": {
            'Normal': 'Vente normale',
            'Abnorml': 'Vente anormale',
            'AdjLand': 'Achat terrain adjoint',
            'Alloca': 'Allocation (propriétés liées)',
            'Family': 'Vente entre membres de la famille',
            'Partial': 'Maison incomplète'
        },
 
        "CentralAir": {
            'Y': "Oui",
            'N': "Non"
        },
        
        "PavedDrive": {
            'Y': "Pavé",
            'P': "Pavement partiel",
            'N': "Gravier/Terre"
        },

        "MoSold": {
            1: "Janvier",
            2: "Février",
            3: "Mars",
            4: "Avril",
            5: "Mai",
            6: "Juin",
            7: "Juillet",
            8: "Août",
            9: "Septembre",
            10: "Octobre",
            11: "Novembre",
            12: "Décembre"
        }

}

    for el in data.columns:
        if el in mapp:  # Vérifier si la colonne est dans le dictionnaire
            data[el] = data[el].map(mapp[el])
        else:
            print(el)
    
    ####### Renommage des colonnes ########################
    labels = {
        'Id': 'Identifiant',
        'MSSubClass': 'Type de logement',
        'MSZoning': 'Zonage (Classification)',
        'LotFrontage': 'Façade (en pieds)',
        'LotArea': 'Superficie du lot (pieds²)',
        'Street': 'Type de route',
        'Alley': 'Accès à une allée',
        'LotShape': 'Forme du lot',
        'LandContour': 'Topographie du terrain',
        'Utilities': 'Services publics disponibles',
        'LotConfig': 'Configuration du lot',
        'LandSlope': 'Inclinaison du terrain',
        'Neighborhood': 'Quartier',
        'Condition1': 'Proximité (1ère condition)',
        'Condition2': 'Proximité (2e condition)',
        'BldgType': 'Type de bâtiment',
        'HouseStyle': 'Style de maison',
        'OverallQual': 'Qualité globale',
        'OverallCond': 'État général',
        'YearBuilt': 'Année de construction',
        'YearRemodAdd': 'Année de rénovation',
        'RoofStyle': 'Style de toit',
        'RoofMatl': 'Matériau du toit',
        'Exterior1st': 'Revêtement extérieur (1)',
        'Exterior2nd': 'Revêtement extérieur (2)',
        'MasVnrType': 'Type de parement en maçonnerie',
        'MasVnrArea': 'Surface de parement (pieds²)',
        'ExterQual': 'Qualité extérieure',
        'ExterCond': 'État extérieur',
        'Foundation': 'Type de fondation',
        'BsmtQual': 'Qualité du sous-sol',
        'BsmtCond': 'État général du sous-sol',
        'BsmtExposure': 'Exposition du sous-sol',
        'BsmtFinType1': 'Type de finition sous-sol (1)',
        'BsmtFinSF1': 'Surface finie sous-sol',
        'BsmtFinType2': 'Type de finition sous-sol (2)',
        'BsmtFinSF2': 'Surface finie sous-sol 2',
        'BsmtUnfSF': 'Surface non finie sous-sol',
        'TotalBsmtSF': 'Total surface sous-sol',
        'Heating': 'Type de chauffage',
        'HeatingQC': 'Qualité du chauffage',
        'CentralAir': 'Climatisation centrale',
        'Electrical': 'Système électrique',
        '1stFlrSF': 'Surface du premier étage',
        '2ndFlrSF': 'Surface du deuxième étage',
        'LowQualFinSF': 'Surface finie basse qualité (pieds²)',
        'GrLivArea': 'Surface habitable totale',
        'BsmtFullBath': 'Salles de bain complètes sous-sol',
        'BsmtHalfBath': 'Demi-salles de bain sous-sol',
        'FullBath': 'Salles de bain complètes',
        'HalfBath': 'Demi-salles de bain',
        'BedroomAbvGr': 'Chambres (hors sous-sol)',
        'KitchenAbvGr': 'Cuisines (hors sous-sol)',
        'KitchenQual': 'Qualité de la cuisine',
        'TotRmsAbvGrd': 'Total des pièces (hors sous-sol)',
        'Functional': 'Fonctionnalité globale',
        'Fireplaces': 'Nombre de cheminées',
        'FireplaceQu': 'Qualité de la cheminée',
        'GarageType': 'Type de garage',
        'GarageYrBlt': 'Année de construction du garage',
        'GarageFinish': 'Finition intérieure du garage',
        'GarageCars': 'Capacité du garage (voitures)',
        'GarageArea': 'Surface du garage',
        'GarageQual': 'Qualité du garage',
        'GarageCond': 'Condition du garage',
        'PavedDrive': 'Allée pavée',
        'WoodDeckSF': 'Surface du deck en bois',
        'OpenPorchSF': 'Surface du porche ouvert',
        'EnclosedPorch': 'Porche fermé',
        '3SsnPorch': 'Porche trois saisons',
        'ScreenPorch': 'Porche screen',
        'PoolArea': 'Surface de la piscine (pieds²)',
        'PoolQC': 'Qualité de la piscine',
        'Fence': 'Clôture',
        'MiscFeature': 'Caractéristiques supplémentaires',
        'MiscVal': 'Valeur des caractéristiques supplémentaires',
        'MoSold': 'Mois de vente',
        'YrSold': 'Année de vente',
        'SaleType': 'Type de vente',
        'SaleCondition': 'Condition de la vente',
        'SalePrice': 'Prix de vente',
        'houseage': 'Âge de la maison',
        'houseremodelage': 'Rénovation de la maison',
        'totalsf': 'Surface totale (pieds²)',
        'totalarea': 'Surface totale',
        'totalbaths': 'Total des salles de bain',
        'totalporchsf': 'Surface totale des porches (pieds²)'
    }

    for ancien_nom, nouveau_nom in labels.items():
        if ancien_nom in data.columns:
            data = data.rename(columns={ancien_nom: nouveau_nom})

    return data


train_df.Exterior2nd.unique()


train_df_labelled=affiche_label(train_df_to_label)


null_columns = train_df_labelled.columns[train_df_labelled.isnull().any()]
null_columns


train_df_labelled.head()


train_df_labelled.columns


train_df_labelled.info()


train_df_labelled.to_csv("../data/train_df_labelled.csv",index=False)





profile = ProfileReport(train_df, title="Profiling Report");
#profile.to_notebook_iframe();  # Used to output the HTML representation to a Jupyter notebook.
profile.to_file("../Ressources/data_report.html")  # Write the report to a file.
