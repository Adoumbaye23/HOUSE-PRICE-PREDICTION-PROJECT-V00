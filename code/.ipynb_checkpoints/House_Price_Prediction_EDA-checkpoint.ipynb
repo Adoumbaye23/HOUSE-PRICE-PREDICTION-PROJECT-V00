{
  "cells": [
    {
      "cell_type": "markdown",
      "id": "94a032fb",
      "metadata": {
        "id": "94a032fb"
      },
      "source": [
        "<h1 style=\"text-align:center;color:blue;font-size:30px;font-family:times\">Ecole Nationale de la Statistique et de l'Analyse Economique Pierre NDIAYE (ENSAE)</h1><br>\n"
      ]
    },
    {
      "cell_type": "markdown",
      "id": "28aHYon-uxaP",
      "metadata": {
        "id": "28aHYon-uxaP"
      },
      "source": [
        "<h1 style=\"text-align:center;color:yellow;font-size:50px;font-family:ALGERIAN;border:solid\">Projet de Machine Learning</h1>"
      ]
    },
    {
      "cell_type": "markdown",
      "id": "0PEztMMbu3gC",
      "metadata": {
        "id": "0PEztMMbu3gC"
      },
      "source": [
        "<h1 style=\"text-align:center;color:brown;font-size:50px;font-family:ALGERIAN;border:solid\">House prices prediction</h1>"
      ]
    },
    {
      "cell_type": "markdown",
      "id": "IKp-3LgHu-1F",
      "metadata": {
        "id": "IKp-3LgHu-1F"
      },
      "source": [
        "<div style=\"display:flex;text-align:justify\">\n",
        "    \n",
        "    \n",
        "<ul style=\"text-align:justify;font-family:times;font-size:15px;list-style-type:circle; width:60%\">\n",
        "<span style=\"font-weight:bold\">Réalisé par </span>\n",
        "    <ul style=\"text-align:justify;font-family:times;font-size:15px;list-style-type:circle\">\n",
        "        <li>Traoré sié rachid</li>                         \n",
        "        <li>Adoumbaye MADJYAM</li>\n",
        "        <li>Sadibou Ngom</li>                          \n",
        "        <li>Sarr Mana El Hadj </li>\n",
        "    </ul>\n",
        "    <span style=\"font-style: italic;font-size:13px\">Élèves Ingénieurs Statisticiens Economistes</span>\n",
        "</ul>\n",
        "\n",
        "<ul style=\"text-align:justify;font-family:times;font-size:15px;list-style-type:none;width:39%\">\n",
        " <li style=\"font-weight:bold\">Sous la supervision de:</li>\n",
        " <li>Mme Mously Diaw</li>\n",
        "    <span style=\"font-style: italic;font-size:13px\">Senior Machine learning Engineer, Entrepreneure @Sen-IA\n",
        "    </span>\n",
        "   \n",
        "</ul>\n",
        "    \n",
        "</div>   \n"
      ]
    },
    {
      "cell_type": "markdown",
      "id": "2ArzLiXFufDb",
      "metadata": {
        "id": "2ArzLiXFufDb"
      },
      "source": [
        "# SOMMAIRE\n",
        "\n",
        "Nous utiliserons l'ensemble de données [Ames Housing](http://jse.amstat.org/v19n3/decock.pdf) qui a été compilé pour la première fois par Dean De Cock. Il s'agit d'un ensemble de 1 460 maisons résidentielles à Ames, dans l'Iowa, chacune décrite par 80 caractéristiques. Nous l'utiliserons pour prédire le prix final des maisons. Dans cet exemple, nous n'utiliserons que les **n** caractéristiques les plus intéressantes.\n",
        "\n"
      ]
    },
    {
      "cell_type": "markdown",
      "id": "RNkbuP_JMfz4",
      "metadata": {
        "id": "RNkbuP_JMfz4"
      },
      "source": [
        "## I-  EDA: Exploratory Data Analysis\n",
        "\n",
        "\n",
        "\n"
      ]
    },
    {
      "cell_type": "markdown",
      "id": "d5b73b28",
      "metadata": {
        "id": "d5b73b28"
      },
      "source": [
        "## Importation des library"
      ]
    },
    {
      "cell_type": "code",
      "execution_count": null,
      "id": "0cb1ab71",
      "metadata": {
        "id": "0cb1ab71"
      },
      "outputs": [],
      "source": [
        "import matplotlib.pyplot as plt\n",
        "import missingno as msno\n",
        "import numpy as np\n",
        "import pandas as pd\n",
        "import scipy as sp\n",
        "import seaborn as sns\n",
        "from ydata_profiling import ProfileReport\n",
        "from sklearn import set_config\n",
        "from scipy.stats.mstats import winsorize\n",
        "from sklearn.compose import ColumnTransformer, make_column_selector\n",
        "from sklearn.impute import SimpleImputer\n",
        "from sklearn.linear_model import LinearRegression, Ridge, RidgeCV, Lasso, ElasticNet\n",
        "from sklearn.metrics import (r2_score,\n",
        "                             mean_squared_error,\n",
        "                             mean_absolute_percentage_error,\n",
        "                             max_error,\n",
        "                            )\n",
        "from sklearn.model_selection import train_test_split, GridSearchCV, cross_validate\n",
        "from sklearn.pipeline import make_pipeline, Pipeline\n",
        "from sklearn.preprocessing import StandardScaler, OneHotEncoder,OrdinalEncoder\n",
        "\n",
        "set_config(display=\"diagram\", print_changed_only=False)\n",
        "\n",
        "pd.set_option('display.max_columns', None)\n",
        "pd.set_option('display.max_colwidth', None)"
      ]
    },
    {
      "cell_type": "markdown",
      "id": "b59f2c33-de3a-4809-a01c-2ee2873ea22c",
      "metadata": {
        "id": "b59f2c33-de3a-4809-a01c-2ee2873ea22c"
      },
      "source": [
        "# Importation des données"
      ]
    },
    {
      "cell_type": "code",
      "execution_count": null,
      "id": "hgr7AuGcQDi4",
      "metadata": {
        "colab": {
          "base_uri": "https://localhost:8080/",
          "height": 39
        },
        "id": "hgr7AuGcQDi4",
        "outputId": "1a6a22eb-1075-4d37-80b6-a6481053be54"
      },
      "outputs": [
        {
          "data": {
            "text/html": [
              "\n",
              "     <input type=\"file\" id=\"files-a5bd311b-f46a-4277-babc-ddd8dbb3291b\" name=\"files[]\" multiple disabled\n",
              "        style=\"border:none\" />\n",
              "     <output id=\"result-a5bd311b-f46a-4277-babc-ddd8dbb3291b\">\n",
              "      Upload widget is only available when the cell has been executed in the\n",
              "      current browser session. Please rerun this cell to enable.\n",
              "      </output>\n",
              "      <script>// Copyright 2017 Google LLC\n",
              "//\n",
              "// Licensed under the Apache License, Version 2.0 (the \"License\");\n",
              "// you may not use this file except in compliance with the License.\n",
              "// You may obtain a copy of the License at\n",
              "//\n",
              "//      http://www.apache.org/licenses/LICENSE-2.0\n",
              "//\n",
              "// Unless required by applicable law or agreed to in writing, software\n",
              "// distributed under the License is distributed on an \"AS IS\" BASIS,\n",
              "// WITHOUT WARRANTIES OR CONDITIONS OF ANY KIND, either express or implied.\n",
              "// See the License for the specific language governing permissions and\n",
              "// limitations under the License.\n",
              "\n",
              "/**\n",
              " * @fileoverview Helpers for google.colab Python module.\n",
              " */\n",
              "(function(scope) {\n",
              "function span(text, styleAttributes = {}) {\n",
              "  const element = document.createElement('span');\n",
              "  element.textContent = text;\n",
              "  for (const key of Object.keys(styleAttributes)) {\n",
              "    element.style[key] = styleAttributes[key];\n",
              "  }\n",
              "  return element;\n",
              "}\n",
              "\n",
              "// Max number of bytes which will be uploaded at a time.\n",
              "const MAX_PAYLOAD_SIZE = 100 * 1024;\n",
              "\n",
              "function _uploadFiles(inputId, outputId) {\n",
              "  const steps = uploadFilesStep(inputId, outputId);\n",
              "  const outputElement = document.getElementById(outputId);\n",
              "  // Cache steps on the outputElement to make it available for the next call\n",
              "  // to uploadFilesContinue from Python.\n",
              "  outputElement.steps = steps;\n",
              "\n",
              "  return _uploadFilesContinue(outputId);\n",
              "}\n",
              "\n",
              "// This is roughly an async generator (not supported in the browser yet),\n",
              "// where there are multiple asynchronous steps and the Python side is going\n",
              "// to poll for completion of each step.\n",
              "// This uses a Promise to block the python side on completion of each step,\n",
              "// then passes the result of the previous step as the input to the next step.\n",
              "function _uploadFilesContinue(outputId) {\n",
              "  const outputElement = document.getElementById(outputId);\n",
              "  const steps = outputElement.steps;\n",
              "\n",
              "  const next = steps.next(outputElement.lastPromiseValue);\n",
              "  return Promise.resolve(next.value.promise).then((value) => {\n",
              "    // Cache the last promise value to make it available to the next\n",
              "    // step of the generator.\n",
              "    outputElement.lastPromiseValue = value;\n",
              "    return next.value.response;\n",
              "  });\n",
              "}\n",
              "\n",
              "/**\n",
              " * Generator function which is called between each async step of the upload\n",
              " * process.\n",
              " * @param {string} inputId Element ID of the input file picker element.\n",
              " * @param {string} outputId Element ID of the output display.\n",
              " * @return {!Iterable<!Object>} Iterable of next steps.\n",
              " */\n",
              "function* uploadFilesStep(inputId, outputId) {\n",
              "  const inputElement = document.getElementById(inputId);\n",
              "  inputElement.disabled = false;\n",
              "\n",
              "  const outputElement = document.getElementById(outputId);\n",
              "  outputElement.innerHTML = '';\n",
              "\n",
              "  const pickedPromise = new Promise((resolve) => {\n",
              "    inputElement.addEventListener('change', (e) => {\n",
              "      resolve(e.target.files);\n",
              "    });\n",
              "  });\n",
              "\n",
              "  const cancel = document.createElement('button');\n",
              "  inputElement.parentElement.appendChild(cancel);\n",
              "  cancel.textContent = 'Cancel upload';\n",
              "  const cancelPromise = new Promise((resolve) => {\n",
              "    cancel.onclick = () => {\n",
              "      resolve(null);\n",
              "    };\n",
              "  });\n",
              "\n",
              "  // Wait for the user to pick the files.\n",
              "  const files = yield {\n",
              "    promise: Promise.race([pickedPromise, cancelPromise]),\n",
              "    response: {\n",
              "      action: 'starting',\n",
              "    }\n",
              "  };\n",
              "\n",
              "  cancel.remove();\n",
              "\n",
              "  // Disable the input element since further picks are not allowed.\n",
              "  inputElement.disabled = true;\n",
              "\n",
              "  if (!files) {\n",
              "    return {\n",
              "      response: {\n",
              "        action: 'complete',\n",
              "      }\n",
              "    };\n",
              "  }\n",
              "\n",
              "  for (const file of files) {\n",
              "    const li = document.createElement('li');\n",
              "    li.append(span(file.name, {fontWeight: 'bold'}));\n",
              "    li.append(span(\n",
              "        `(${file.type || 'n/a'}) - ${file.size} bytes, ` +\n",
              "        `last modified: ${\n",
              "            file.lastModifiedDate ? file.lastModifiedDate.toLocaleDateString() :\n",
              "                                    'n/a'} - `));\n",
              "    const percent = span('0% done');\n",
              "    li.appendChild(percent);\n",
              "\n",
              "    outputElement.appendChild(li);\n",
              "\n",
              "    const fileDataPromise = new Promise((resolve) => {\n",
              "      const reader = new FileReader();\n",
              "      reader.onload = (e) => {\n",
              "        resolve(e.target.result);\n",
              "      };\n",
              "      reader.readAsArrayBuffer(file);\n",
              "    });\n",
              "    // Wait for the data to be ready.\n",
              "    let fileData = yield {\n",
              "      promise: fileDataPromise,\n",
              "      response: {\n",
              "        action: 'continue',\n",
              "      }\n",
              "    };\n",
              "\n",
              "    // Use a chunked sending to avoid message size limits. See b/62115660.\n",
              "    let position = 0;\n",
              "    do {\n",
              "      const length = Math.min(fileData.byteLength - position, MAX_PAYLOAD_SIZE);\n",
              "      const chunk = new Uint8Array(fileData, position, length);\n",
              "      position += length;\n",
              "\n",
              "      const base64 = btoa(String.fromCharCode.apply(null, chunk));\n",
              "      yield {\n",
              "        response: {\n",
              "          action: 'append',\n",
              "          file: file.name,\n",
              "          data: base64,\n",
              "        },\n",
              "      };\n",
              "\n",
              "      let percentDone = fileData.byteLength === 0 ?\n",
              "          100 :\n",
              "          Math.round((position / fileData.byteLength) * 100);\n",
              "      percent.textContent = `${percentDone}% done`;\n",
              "\n",
              "    } while (position < fileData.byteLength);\n",
              "  }\n",
              "\n",
              "  // All done.\n",
              "  yield {\n",
              "    response: {\n",
              "      action: 'complete',\n",
              "    }\n",
              "  };\n",
              "}\n",
              "\n",
              "scope.google = scope.google || {};\n",
              "scope.google.colab = scope.google.colab || {};\n",
              "scope.google.colab._files = {\n",
              "  _uploadFiles,\n",
              "  _uploadFilesContinue,\n",
              "};\n",
              "})(self);\n",
              "</script> "
            ],
            "text/plain": [
              "<IPython.core.display.HTML object>"
            ]
          },
          "metadata": {},
          "output_type": "display_data"
        }
      ],
      "source": [
        "from google.colab import files\n",
        "uploaded = files.upload()\n"
      ]
    },
    {
      "cell_type": "code",
      "execution_count": null,
      "id": "cc33445a",
      "metadata": {
        "id": "cc33445a"
      },
      "outputs": [],
      "source": [
        "data= pd.read_csv(\"train.csv\", sep=\";\")\n",
        "data.head(3)"
      ]
    },
    {
      "cell_type": "code",
      "execution_count": null,
      "id": "ee2bde79",
      "metadata": {
        "id": "ee2bde79"
      },
      "outputs": [],
      "source": [
        "data = data.drop('Id', axis=1)\n",
        "\n",
        "data"
      ]
    },
    {
      "cell_type": "markdown",
      "id": "-wJ_yDxBLMA3",
      "metadata": {
        "id": "-wJ_yDxBLMA3"
      },
      "source": [
        "### Descripion Globale"
      ]
    },
    {
      "cell_type": "code",
      "execution_count": null,
      "id": "49IMVKMOLnAi",
      "metadata": {
        "id": "49IMVKMOLnAi"
      },
      "outputs": [],
      "source": [
        "# dimension\n",
        "data.shape"
      ]
    },
    {
      "cell_type": "markdown",
      "id": "AioCdq8RL0tv",
      "metadata": {
        "id": "AioCdq8RL0tv"
      },
      "source": [
        "Nous avons un jeu de données composé de 1460 individus (les maisons) et 81 variables relatives aux  caractéristiques des maisons etc..."
      ]
    },
    {
      "cell_type": "code",
      "execution_count": null,
      "id": "raU5BIlsMM7P",
      "metadata": {
        "id": "raU5BIlsMM7P"
      },
      "outputs": [],
      "source": [
        "# dictionnaire des variables\n",
        "data.info()"
      ]
    },
    {
      "cell_type": "markdown",
      "id": "0326038a",
      "metadata": {
        "id": "0326038a"
      },
      "source": [
        "### Data summary"
      ]
    },
    {
      "cell_type": "code",
      "execution_count": null,
      "id": "09101881",
      "metadata": {
        "id": "09101881"
      },
      "outputs": [],
      "source": [
        "# Sélectionner uniquement les colonnes numériques\n",
        "colonnes_numeriques = data.select_dtypes(include=['number'])\n",
        "\n",
        "# Calculer les statistiques descriptives pour les colonnes numériques\n",
        "colonnes_numeriques.describe()"
      ]
    },
    {
      "cell_type": "code",
      "execution_count": null,
      "id": "cc8e0016",
      "metadata": {
        "id": "cc8e0016"
      },
      "outputs": [],
      "source": [
        "# Sélectionner les colonnes qualitatives\n",
        "colonnes_qualitatives = data.select_dtypes(include=['object'])\n",
        "# Obtenir les statistiques descriptives des variables qualitatives\n",
        "colonnes_qualitatives.describe()"
      ]
    },
    {
      "cell_type": "markdown",
      "id": "aAIxm51jM17s",
      "metadata": {
        "id": "aAIxm51jM17s"
      },
      "source": [
        "### Extraction des données"
      ]
    },
    {
      "cell_type": "code",
      "execution_count": null,
      "id": "wAj41a3ZN7zd",
      "metadata": {
        "id": "wAj41a3ZN7zd"
      },
      "outputs": [],
      "source": [
        "data= data.copy()"
      ]
    },
    {
      "cell_type": "code",
      "execution_count": null,
      "id": "c2067420-73cc-4249-afc9-26b210767c2c",
      "metadata": {
        "id": "c2067420-73cc-4249-afc9-26b210767c2c"
      },
      "outputs": [],
      "source": [
        "missing_percentage_x = (data['SalePrice'].isnull().sum() / len(data)) * 100\n",
        "print(f\"Le pourcentage de valeurs manquantes pour la variable cible est : {missing_percentage_x:.2f}%\")\n"
      ]
    },
    {
      "cell_type": "code",
      "execution_count": null,
      "id": "02bfefe7",
      "metadata": {
        "id": "02bfefe7"
      },
      "outputs": [],
      "source": [
        "fig, axes = plt.subplots(nrows=1, ncols=2, figsize=(15, 4))\n",
        "y=data.SalePrice\n",
        "sns.histplot(y, color='r', kde=True, ax=axes[0])\n",
        "axes[0].set_title('Distribution of house prices')\n",
        "\n",
        "log_y = np.log(y)\n",
        "sns.histplot(log_y, color='b', kde=True, ax=axes[1])\n",
        "axes[1].set_title('Distribution of house prices in $log$ scale')\n",
        "axes[1].set_xscale('log');"
      ]
    },
    {
      "cell_type": "markdown",
      "id": "f7a81d77",
      "metadata": {
        "id": "f7a81d77"
      },
      "source": [
        "Si nous regardons le graphique de gauche, le prix de vente de la maison varie de 34900 à 755000, le graphique est asymétrique à gauche. Pour la suite de l'analyse, nous appliquerons le logarithme à la variable cible « charges ». La normalité est une hypothèse importante pour de nombreuses techniques statistiques.\n",
        "\n",
        "- `log` est une transformation particulière de Box-Cox\n",
        "- (transformation de Box-Cox)(https://www.statisticshowto.com/box-cox-transformation/) : Une transformation de Box-Cox est un moyen de transformer des variables dépendantes non normales en une forme normale.\n"
      ]
    },
    {
      "cell_type": "markdown",
      "id": "IZM52OZVNYy7",
      "metadata": {
        "id": "IZM52OZVNYy7"
      },
      "source": [
        "## STATISTIQUES DESCRIPTIVES"
      ]
    },
    {
      "cell_type": "code",
      "execution_count": null,
      "id": "IJbcvurFpYg9",
      "metadata": {
        "id": "IJbcvurFpYg9"
      },
      "outputs": [],
      "source": [
        "\n",
        "\n",
        "# Calculer la répartition des types de bâtiments\n",
        "building_counts = data['BldgType'].value_counts()\n",
        "\n",
        "# Créer le diagramme en secteurs\n",
        "plt.figure(figsize=(20,10))\n",
        "plt.pie(building_counts, labels=building_counts.index, autopct='%1.1f%%', startangle=140, colors=plt.cm.Set3.colors)\n",
        "\n",
        "# Ajouter le titre\n",
        "plt.title('Répartition des types de bâtiments (BldgType)')\n",
        "\n",
        "# Ajouter la légende\n",
        "plt.legend(building_counts.index, title='Types de bâtiments', loc='best')\n",
        "\n",
        "# Afficher le graphique\n",
        "plt.show()\n",
        "\n"
      ]
    },
    {
      "cell_type": "code",
      "execution_count": null,
      "id": "UgRFFNgDjnCA",
      "metadata": {
        "id": "UgRFFNgDjnCA"
      },
      "outputs": [],
      "source": [
        "# Calculer la répartition des zones résidentielles\n",
        "zone_counts = data['MSZoning'].value_counts()\n",
        "\n",
        "# Créer le diagramme en secteurs\n",
        "plt.figure(figsize=(20, 12))\n",
        "plt.pie(zone_counts,\n",
        "        labels=zone_counts.index,\n",
        "        autopct='%1.1f%%',\n",
        "        startangle=140,\n",
        "        colors=plt.cm.Paired.colors,\n",
        "        textprops={'fontsize': 20})  # Taille de la police pour les étiquettes\n",
        "\n",
        "# Ajouter le titre\n",
        "plt.title('Répartition des zones résidentielles (MSZoning)', fontsize=20)  # Taille du titre\n",
        "\n",
        "# Ajouter la légende\n",
        "plt.legend(zone_counts.index, title='Zones résidentielles', loc='best', fontsize=14, title_fontsize=20)  # Taille des textes et titre de la légende\n",
        "\n",
        "# Afficher le graphique\n",
        "plt.show()\n"
      ]
    },
    {
      "cell_type": "code",
      "execution_count": null,
      "id": "V8lVfwKFjJjN",
      "metadata": {
        "id": "V8lVfwKFjJjN"
      },
      "outputs": [],
      "source": [
        "plt.figure(figsize=(20, 12))\n",
        "sns.countplot(y=data['Neighborhood'],\n",
        "              order=data['Neighborhood'].value_counts().index,\n",
        "              palette='coolwarm')\n",
        "plt.title('Nombre de maisons par quartier', fontsize=20)\n",
        "plt.xlabel('Nombre de maisons', fontsize=16)\n",
        "plt.ylabel('Quartier', fontsize=16)\n",
        "plt.yticks(fontsize=25)\n",
        "plt.show()\n"
      ]
    },
    {
      "cell_type": "code",
      "execution_count": null,
      "id": "xsktdO3mg39x",
      "metadata": {
        "id": "xsktdO3mg39x"
      },
      "outputs": [],
      "source": [
        "\n",
        "\n",
        "plt.figure(figsize=(10, 6))\n",
        "sns.histplot(data['LotArea'], bins=30, kde=True, color='skyblue')\n",
        "plt.title('Distribution de la superficie du terrain')\n",
        "plt.xlabel('Superficie du terrain (pieds carrés)')\n",
        "plt.ylabel('Fréquence')\n",
        "plt.show()\n"
      ]
    },
    {
      "cell_type": "code",
      "execution_count": null,
      "id": "_tRNYmt8geJN",
      "metadata": {
        "id": "_tRNYmt8geJN"
      },
      "outputs": [],
      "source": [
        "plt.figure(figsize=(18, 10))  # Augmenter la taille du graphique\n",
        "sns.boxplot(x=data['Neighborhood'], y=data['SalePrice'], palette=\"coolwarm\")  # Ajouter une palette de couleurs\n",
        "\n",
        "# Ajouter un titre et des labels avec une taille plus grande\n",
        "#plt.title('Quartier vs Prix de vente', fontsize=20)\n",
        "plt.xlabel('Quartier', fontsize=16)\n",
        "plt.ylabel('Prix de vente ($)', fontsize=16)\n",
        "\n",
        "# Rotation et taille des étiquettes des quartiers\n",
        "plt.xticks(rotation=45, fontsize=14)\n",
        "\n",
        "plt.show()\n"
      ]
    },
    {
      "cell_type": "code",
      "execution_count": null,
      "id": "5ox4htq1gV8I",
      "metadata": {
        "id": "5ox4htq1gV8I"
      },
      "outputs": [],
      "source": [
        "plt.figure(figsize=(12, 6))\n",
        "sns.boxplot(x=data['OverallQual'], y=data['SalePrice'])\n",
        "plt.title('Qualité générale vs Prix de vente')\n",
        "plt.xlabel('Qualité générale')\n",
        "plt.ylabel('Prix de vente ($)')\n",
        "plt.show()\n"
      ]
    },
    {
      "cell_type": "code",
      "execution_count": null,
      "id": "VW64s6VBgH7t",
      "metadata": {
        "id": "VW64s6VBgH7t"
      },
      "outputs": [],
      "source": [
        "plt.figure(figsize=(10, 6))\n",
        "sns.scatterplot(x=data['GrLivArea'], y=data['SalePrice'])\n",
        "#plt.title('Relation entre la surface habitable et le prix de vente', fontsize=12)\n",
        "plt.xlabel('Surface habitable au-dessus du sol (pieds carrés)', fontsize=25)\n",
        "plt.ylabel('Prix de vente ($)', fontsize=25)\n",
        "plt.show()\n"
      ]
    },
    {
      "cell_type": "code",
      "execution_count": null,
      "id": "262a14ea",
      "metadata": {
        "id": "262a14ea"
      },
      "outputs": [],
      "source": [
        "sns.catplot(kind=\"box\", x='HouseStyle', y=log_y, hue='Heating',\n",
        "            data=data, palette='rainbow', height=6, aspect=2);"
      ]
    },
    {
      "cell_type": "code",
      "execution_count": null,
      "id": "a1cb9ae0",
      "metadata": {
        "id": "a1cb9ae0"
      },
      "outputs": [],
      "source": [
        "#graphique de dispersion où l'axe X représente la superficie du sous-sol (TotalBsmtSF), l'axe Y représente la variable log_y\n",
        "#(une transformation logaritmique de votre variable cible),\n",
        "#et chaque point est coloré selon le style de la maison (HouseStyle).\n",
        "plt.figure(figsize=(14, 8))  # Augmenter la taille du graphique\n",
        "\n",
        "# Créer le scatterplot avec des ajustements\n",
        "sns.scatterplot(x='TotalBsmtSF',\n",
        "                y=log_y,\n",
        "                data=data,\n",
        "                hue='HouseStyle',\n",
        "                palette='magma',\n",
        "                s=70,  # Taille des points\n",
        "                alpha=0.8)  # Transparence des points\n",
        "\n",
        "# Ajouter un titre et des labels avec une taille augmentée\n",
        "plt.title('Surface totale du sous-sol vs Prix de vente (log)', fontsize=20)\n",
        "plt.xlabel('Surface totale du sous-sol (pieds carrés)', fontsize=16)\n",
        "plt.ylabel('Prix de vente (log)', fontsize=16)\n",
        "\n",
        "# Agrandir les étiquettes des axes\n",
        "plt.xticks(fontsize=12)\n",
        "plt.yticks(fontsize=12)\n",
        "\n",
        "# Ajouter une légende claire\n",
        "plt.legend(title='Style de maison', fontsize=12, title_fontsize=14, loc='upper left')\n",
        "\n",
        "plt.show()\n"
      ]
    },
    {
      "cell_type": "markdown",
      "id": "Nbw0nv-ico3d",
      "metadata": {
        "id": "Nbw0nv-ico3d"
      },
      "source": [
        "### VARIABLES PERTINENTES\n"
      ]
    },
    {
      "cell_type": "code",
      "execution_count": null,
      "id": "oSUmN-lCcnan",
      "metadata": {
        "id": "oSUmN-lCcnan"
      },
      "outputs": [],
      "source": [
        "\n",
        "# Liste des colonnes souhaitées\n",
        "variables_pertinentes = [\n",
        "    'SalePrice','MSSubClass', 'MSZoning', 'LotFrontage', 'LotArea', 'Street', 'Alley',\n",
        "    'LotShape', 'LandContour', 'Utilities', 'LotConfig', 'LandSlope',\n",
        "    'Neighborhood', 'Condition1', 'Condition2', 'BldgType', 'HouseStyle',\n",
        "    'OverallQual', 'OverallCond', 'YearBuilt', 'YearRemodAdd', 'RoofStyle',\n",
        "    'RoofMatl', 'Exterior1st', 'Exterior2nd', 'MasVnrType', 'MasVnrArea',\n",
        "    'ExterQual', 'ExterCond', 'Foundation', 'BsmtQual', 'BsmtCond',\n",
        "    'BsmtExposure', 'BsmtFinType1', 'BsmtFinSF1', 'BsmtFinType2',\n",
        "    'BsmtFinSF2', 'BsmtUnfSF', 'TotalBsmtSF', 'Heating', 'HeatingQC',\n",
        "    'CentralAir', 'Electrical', '1stFlrSF', '2ndFlrSF', 'LowQualFinSF',\n",
        "    'GrLivArea', 'BsmtFullBath', 'BsmtHalfBath', 'FullBath', 'HalfBath'\n",
        "]\n",
        "\n",
        "# Sélection des colonnes souhaitées\n",
        "data = data[variables_pertinentes]\n",
        "\n",
        "# Affichage des premières lignes du data\n",
        "data.head(5)\n"
      ]
    },
    {
      "cell_type": "code",
      "execution_count": null,
      "id": "b4ac4b35",
      "metadata": {
        "id": "b4ac4b35"
      },
      "outputs": [],
      "source": [
        "# Calcul de la matrice de corrélation pour les colonnes numériques\n",
        "corr = data.select_dtypes(include=[np.number]).corr(method=\"pearson\")\n",
        "\n",
        "# Création d'un masque pour la partie supérieure de la matrice\n",
        "mask = np.triu(np.ones_like(corr, dtype=bool))\n",
        "\n",
        "# Configuration de la taille de la figure\n",
        "plt.figure(figsize=(30, 20))\n",
        "\n",
        "# Création de la carte thermique sans annotations\n",
        "sns.heatmap(corr, cmap='Greens', annot=False, square=True,\n",
        "            mask=mask, cbar=True, vmin=-1, vmax=1)\n",
        "\n",
        "# Ajout du titre\n",
        "plt.title('Matrice de Corrélation des Variables Numériques', fontsize=18)\n",
        "\n",
        "# Affichage du graphique\n",
        "plt.show()"
      ]
    },
    {
      "cell_type": "code",
      "execution_count": null,
      "id": "lPAQd836raia",
      "metadata": {
        "id": "lPAQd836raia"
      },
      "outputs": [],
      "source": [
        "correlation_matrix = data.corr(numeric_only=True)\n",
        "plt.figure(figsize=(15,12))\n",
        "sns.heatmap(correlation_matrix, annot=True, cmap='coolwarm', fmt=\".2f\")"
      ]
    },
    {
      "cell_type": "markdown",
      "id": "49e379bf",
      "metadata": {
        "id": "49e379bf"
      },
      "source": [
        "### Valeur manquantes"
      ]
    },
    {
      "cell_type": "code",
      "execution_count": null,
      "id": "3e8a8335",
      "metadata": {
        "id": "3e8a8335"
      },
      "outputs": [],
      "source": [
        "# Calculer le pourcentage de valeurs manquantes pour chaque colonne\n",
        "missing_percentage = (data.isnull().sum() / len(data)) * 100\n",
        "\n",
        "# Identifier les colonnes avec plus de 50% de valeurs manquantes\n",
        "colonnes_a_supprimer = missing_percentage[missing_percentage > 40].index\n",
        "\n",
        "# Supprimer ces colonnes du DataFrame\n",
        "data = data.drop(columns=colonnes_a_supprimer)\n",
        "\n",
        "data\n",
        "\n"
      ]
    },
    {
      "cell_type": "code",
      "execution_count": null,
      "id": "30a9935c",
      "metadata": {
        "id": "30a9935c"
      },
      "outputs": [],
      "source": [
        "# Configuration de la taille de la figure\n",
        "plt.figure(figsize=(20, 10))\n",
        "# Visualtisation des NAs\n",
        "msno.matrix(data)"
      ]
    },
    {
      "cell_type": "code",
      "execution_count": null,
      "id": "31dd6658",
      "metadata": {
        "id": "31dd6658"
      },
      "outputs": [],
      "source": [
        "msno.bar(data)"
      ]
    },
    {
      "cell_type": "code",
      "execution_count": null,
      "id": "47bb7995",
      "metadata": {
        "id": "47bb7995"
      },
      "outputs": [],
      "source": [
        "# nombre de valeurs manquantes sur les variables retenues\n",
        "data.isna().sum().sort_values(ascending=False)"
      ]
    },
    {
      "cell_type": "markdown",
      "id": "poVWVJH0RNOP",
      "metadata": {
        "id": "poVWVJH0RNOP"
      },
      "source": [
        "### Recapitulatif"
      ]
    },
    {
      "cell_type": "code",
      "execution_count": null,
      "id": "TTzjXXshN0nr",
      "metadata": {
        "id": "TTzjXXshN0nr"
      },
      "outputs": [],
      "source": [
        "# Generate a profile report from a Dataset stored as a pandas `DataFrame`.\n",
        "profile = ProfileReport(data, title=\"Profiling Report\")\n",
        "profile.to_notebook_iframe()"
      ]
    },
    {
      "cell_type": "code",
      "execution_count": null,
      "id": "mraB_0h6RZLO",
      "metadata": {
        "id": "mraB_0h6RZLO"
      },
      "outputs": [],
      "source": [
        "profile"
      ]
    },
    {
      "cell_type": "markdown",
      "id": "1W_QmoVVSF_g",
      "metadata": {
        "id": "1W_QmoVVSF_g"
      },
      "source": [
        "# II- Apurement et  Feature Engineering"
      ]
    },
    {
      "cell_type": "markdown",
      "id": "QKBNzTaXSpZU",
      "metadata": {
        "id": "QKBNzTaXSpZU"
      },
      "source": [
        "Dans cette section, nous commencerons par apurer la base de données retenue, en traitant notamment les valeurs manquantes, les outliers, et en vérifiant la présence de doublons.\n",
        "\n",
        "Ensuite, nous passerons au prétraitement des variables en vue de la modélisation. Cela inclut le recodage des variables, la création de nouvelles variables pertinentes, ainsi que la sélection des variables explicatives."
      ]
    },
    {
      "cell_type": "markdown",
      "id": "fb3dc3ef",
      "metadata": {
        "id": "fb3dc3ef"
      },
      "source": [
        "### Traitement des valeurs aberrantes et outliers"
      ]
    },
    {
      "cell_type": "markdown",
      "id": "MrhGeG5VTd-b",
      "metadata": {
        "id": "MrhGeG5VTd-b"
      },
      "source": [
        "Ce script décrit une méthode systématique pour traiter les données manquantes dans une base de données en fonction de la nature des colonnes (quantitatives ou qualitatives). Voici les étapes principales :  \n",
        "\n",
        "1. **Identification des colonnes** :  \n",
        "   - Les colonnes quantitatives (numériques) sont identifiées en sélectionnant celles qui contiennent des données de type numérique.  \n",
        "   - Les colonnes qualitatives (catégoriques) sont identifiées en sélectionnant celles contenant des données de type texte ou catégorielles.\n",
        "\n",
        "2. **Imputation des valeurs manquantes pour les colonnes quantitatives** :  \n",
        "   - Un imputeur est créé avec une stratégie basée sur la médiane, qui remplace les valeurs manquantes par la médiane de chaque colonne.\n",
        "   - Cette méthode est appliquée aux colonnes quantitatives pour assurer que les données soient cohérentes et sans valeurs manquantes.\n",
        "\n",
        "3. **Imputation des valeurs manquantes pour les colonnes qualitatives** :  \n",
        "   - Un imputeur est créé avec une stratégie basée sur la modalité (valeur la plus fréquente), permettant de remplacer les valeurs manquantes par la catégorie la plus courante dans chaque colonne.\n",
        "   - Cette approche est appliquée aux colonnes qualitatives pour garantir une cohérence dans les catégories.\n",
        "\n",
        "4. **Vérification des données** :  \n",
        "   - Une vérification finale est effectuée pour s'assurer que toutes les valeurs manquantes ont été traitées.  \n",
        "\n",
        "Ce processus garantit une base de données complète et cohérente, essentielle pour des analyses ou des modélisations ultérieures."
      ]
    },
    {
      "cell_type": "code",
      "execution_count": null,
      "id": "580c633c",
      "metadata": {
        "id": "580c633c"
      },
      "outputs": [],
      "source": [
        "# Identification des colonnes quantitatives (numériques)\n",
        "colonnes_quantitatives = data.select_dtypes(include=['number']).columns\n",
        "\n",
        "# Identification des colonnes qualitatives (catégorielles)\n",
        "colonnes_qualitatives = data.select_dtypes(include=['object']).columns\n",
        "\n",
        "# Création de l'imputeur pour les variables quantitatives (médiane)\n",
        "imputer_quant = SimpleImputer(strategy='median')\n",
        "\n",
        "# Application de l'imputeur sur les colonnes quantitatives\n",
        "data[colonnes_quantitatives] = imputer_quant.fit_transform(data[colonnes_quantitatives])\n",
        "\n",
        "# Création de l'imputeur pour les variables qualitatives (mode)\n",
        "imputer_qual = SimpleImputer(strategy='most_frequent')\n",
        "\n",
        "# Application de l'imputeur sur les colonnes qualitatives\n",
        "data[colonnes_qualitatives] = imputer_qual.fit_transform(data[colonnes_qualitatives])\n",
        "\n",
        "# Vérification des valeurs manquantes restantes\n",
        "print(data.isnull().sum())"
      ]
    },
    {
      "cell_type": "code",
      "execution_count": null,
      "id": "020bcd98",
      "metadata": {
        "id": "020bcd98"
      },
      "outputs": [],
      "source": [
        "# Configuration de la taille de la figure\n",
        "plt.figure(figsize=(20, 10))\n",
        "# Génération du graphique des valeurs manquantes avec des barres bleues\n",
        "msno.bar(data, color='green', fontsize=12)\n",
        "\n",
        "# Affichage du graphique\n",
        "plt.show()"
      ]
    },
    {
      "cell_type": "markdown",
      "id": "614a6ca2",
      "metadata": {
        "id": "614a6ca2"
      },
      "source": [
        "#### TRAITEMENT DES OUTLIERS"
      ]
    },
    {
      "cell_type": "markdown",
      "id": "TMRh26nRUE2b",
      "metadata": {
        "id": "TMRh26nRUE2b"
      },
      "source": [
        "Une valeur aberrante, ou *outlier* en statistiques, désigne une observation qui s'écarte de manière notable des autres données d'un ensemble. Dans la suite, nous détaillerons la méthode utilisée pour leur identification et leur traitement."
      ]
    },
    {
      "cell_type": "code",
      "execution_count": null,
      "id": "jewOJl29T_qJ",
      "metadata": {
        "id": "jewOJl29T_qJ"
      },
      "outputs": [],
      "source": [
        "data.info()"
      ]
    },
    {
      "cell_type": "markdown",
      "id": "NhfSfVxDVLC2",
      "metadata": {
        "id": "NhfSfVxDVLC2"
      },
      "source": [
        "La procédure suivante vise à analyser visuellement la distribution des variables numériques dans un jeu de données, notamment en identifiant les valeurs aberrantes à l'aide de boxplots. Elle est particulièrement utile lorsque la variable cible est le prix des maisons, car elle permet de repérer les facteurs explicatifs potentiellement problématiques ou influents."
      ]
    },
    {
      "cell_type": "code",
      "execution_count": null,
      "id": "9e2b3f81",
      "metadata": {
        "id": "9e2b3f81"
      },
      "outputs": [],
      "source": [
        "# Sélection des colonnes numériques\n",
        "colonnes_numeriques = data.select_dtypes(include=[np.number]).columns\n",
        "\n",
        "# Détermination du nombre de colonnes et de lignes pour les subplots\n",
        "nombre_colonnes = 6  # Nombre de boxplots par ligne\n",
        "nombre_lignes = int(np.ceil(len(colonnes_numeriques) / nombre_colonnes))\n",
        "\n",
        "# Création de la figure et des axes\n",
        "fig, axes = plt.subplots(nombre_lignes, nombre_colonnes, figsize=(20, 5 * nombre_lignes))\n",
        "axes = axes.flatten()  # Aplatir le tableau d'axes pour une itération facile\n",
        "\n",
        "# Création des boxplots pour chaque variable numérique\n",
        "for i, col in enumerate(colonnes_numeriques):\n",
        "    sns.boxplot(data=data, x=col, ax=axes[i], color='skyblue')\n",
        "    axes[i].set_title(f'Boxplot de {col}')\n",
        "    axes[i].set_xlabel('')  # Masquer le label de l'axe x pour plus de clarté\n",
        "\n",
        "# Suppression des axes inutilisés si le nombre de variables n'est pas un multiple de nombre_colonnes\n",
        "for j in range(i + 1, len(axes)):\n",
        "    fig.delaxes(axes[j])\n",
        "\n",
        "# Ajustement de l'espacement entre les subplots\n",
        "plt.tight_layout()\n",
        "plt.show()"
      ]
    },
    {
      "cell_type": "markdown",
      "id": "q6j4GqaBWfuf",
      "metadata": {
        "id": "q6j4GqaBWfuf"
      },
      "source": [
        "### Identification des valeurs aberrantes\n"
      ]
    },
    {
      "cell_type": "markdown",
      "id": "-mGuF3nEV4RE",
      "metadata": {
        "id": "-mGuF3nEV4RE"
      },
      "source": [
        "Pour identifier les valeurs aberrantes dans les colonnes numériques d'un jeu de données, une méthode basée sur l'Intervalle Interquartile (IQR) a été utilisée. Cette approche consiste à calculer les premier et troisième quartiles (Q1 et Q3) pour chaque variable numérique, ainsi que l'IQR, défini comme la différence entre Q3 et Q1. À partir de ces mesures, des limites inférieure (\\(Q1 - 1.5 \\times IQR\\)) et supérieure (\\(Q3 + 1.5 \\times IQR\\)) sont établies pour détecter les observations qui s'écartent significativement de la majorité des données. Toute valeur située en dehors de cet intervalle est considérée comme aberrante. Une matrice booléenne est ensuite générée pour repérer ces valeurs dans chaque colonne, et le nombre total d'observations identifiées comme aberrantes est calculé. Ce processus permet de quantifier les anomalies présentes dans les données et constitue une étape essentielle pour assurer la qualité et la fiabilité des analyses ultérieures."
      ]
    },
    {
      "cell_type": "code",
      "execution_count": null,
      "id": "391396c8",
      "metadata": {
        "id": "391396c8"
      },
      "outputs": [],
      "source": [
        "# Calcul de l'IQR pour chaque colonne numérique\n",
        "Q1 = data[colonnes_numeriques].quantile(0.25)\n",
        "Q3 = data[colonnes_numeriques].quantile(0.75)\n",
        "IQR = Q3 - Q1\n",
        "\n",
        "# Identification des valeurs aberrantes\n",
        "valeurs_aberrantes_iqr = ((data[colonnes_numeriques] < (Q1 - 1.5 * IQR)) | (data[colonnes_numeriques] > (Q3 + 1.5 * IQR)))\n",
        "\n",
        "# Nombre de valeurs aberrantes détectées\n",
        "nombre_valeurs_aberrantes = valeurs_aberrantes_iqr.sum().sum()\n",
        "print(f\"Nombre de valeurs aberrantes détectées avec IQR: {nombre_valeurs_aberrantes}\")\n"
      ]
    },
    {
      "cell_type": "code",
      "execution_count": null,
      "id": "85c6f314",
      "metadata": {
        "id": "85c6f314"
      },
      "outputs": [],
      "source": [
        "# Affichage des résultats pour chaque variable\n",
        "for col in colonnes_numeriques:\n",
        "    print(f\"Variable: {col}\")\n",
        "    print(f\"  Q1: {Q1[col]}\")\n",
        "    print(f\"  Q3: {Q3[col]}\")\n",
        "    print(f\"  IQR: {IQR[col]}\")\n",
        "    print(f\"  Nombre de valeurs aberrantes: {valeurs_aberrantes_iqr[col].sum()}\")\n",
        "    print(\"-\" * 40)\n"
      ]
    },
    {
      "cell_type": "code",
      "execution_count": null,
      "id": "4e6256a0",
      "metadata": {
        "id": "4e6256a0"
      },
      "outputs": [],
      "source": [
        "# liste des colonnes ayant des valeurs aberrantes\n",
        "seuil_inf = Q1 - 1.5 * IQR\n",
        "seuil_sup = Q3 + 1.5 * IQR\n",
        "colonnes_avec_aberrantes = [\n",
        "    col for col in colonnes_numeriques\n",
        "    if (data[col] < seuil_inf[col]).any() or (data[col] > seuil_sup[col]).any()\n",
        "]\n",
        "print(colonnes_avec_aberrantes)\n"
      ]
    },
    {
      "cell_type": "markdown",
      "id": "upC7Aa3gWAeI",
      "metadata": {
        "id": "upC7Aa3gWAeI"
      },
      "source": [
        "### Winsorisation"
      ]
    },
    {
      "cell_type": "markdown",
      "id": "cxyPQykmWzz2",
      "metadata": {
        "id": "cxyPQykmWzz2"
      },
      "source": [
        "Nous corrigerons les valeurs aberrantes en utilisant la méthode de winsorisation.  \n",
        "\n",
        "Cette technique consiste à limiter les valeurs extrêmes d’un ensemble de données à des seuils définis, plutôt que de les supprimer. Elle s’applique comme suit :  \n",
        "- **Seuil supérieur** : Les valeurs dépassant un seuil supérieur, comme le 95e percentile, sont ajustées à ce seuil.  \n",
        "- **Seuil inférieur** : Les valeurs inférieures à un seuil défini, comme le 5e percentile, sont ajustées à ce seuil.  \n",
        "- **Ajustement** : Les valeurs trop élevées ou trop basses sont remplacées par les valeurs des seuils correspondants.  \n",
        "\n",
        "Ainsi, dans notre cas, les valeurs aberrantes seront ajustées pour minimiser leur impact tout en conservant l’intégrité des données."
      ]
    },
    {
      "cell_type": "code",
      "execution_count": null,
      "id": "f788c968",
      "metadata": {
        "id": "f788c968"
      },
      "outputs": [],
      "source": [
        "colonnes_a_winsoriser = ['SalePrice', 'MSSubClass', 'LotFrontage', 'LotArea', 'OverallQual', 'OverallCond', 'YearBuilt', 'MasVnrArea', 'BsmtFinSF1', 'BsmtFinSF2', 'BsmtUnfSF', 'TotalBsmtSF', '1stFlrSF', '2ndFlrSF', 'LowQualFinSF', 'GrLivArea', 'BsmtFullBath', 'BsmtHalfBath']\n",
        "for col in colonnes_a_winsoriser:\n",
        "    data[col] = winsorize(data[col], limits=[0.05, 0.05])\n"
      ]
    },
    {
      "cell_type": "markdown",
      "id": "m-h2WRF_W6w8",
      "metadata": {
        "id": "m-h2WRF_W6w8"
      },
      "source": [
        "#### Observations des corrections (modifications)"
      ]
    },
    {
      "cell_type": "code",
      "execution_count": null,
      "id": "9b572575",
      "metadata": {
        "id": "9b572575"
      },
      "outputs": [],
      "source": [
        "# Sélection des colonnes numériques\n",
        "colonnes_numeriques = data.select_dtypes(include=[np.number]).columns\n",
        "\n",
        "# Détermination du nombre de colonnes et de lignes pour les subplots\n",
        "nombre_colonnes = 6  # Nombre de boxplots par ligne\n",
        "nombre_lignes = int(np.ceil(len(colonnes_numeriques) / nombre_colonnes))\n",
        "\n",
        "# Création de la figure et des axes\n",
        "fig, axes = plt.subplots(nombre_lignes, nombre_colonnes, figsize=(20, 5 * nombre_lignes))\n",
        "axes = axes.flatten()  # Aplatir le tableau d'axes pour une itération facile\n",
        "\n",
        "# Création des boxplots pour chaque variable numérique\n",
        "for i, col in enumerate(colonnes_numeriques):\n",
        "    sns.boxplot(data=data, x=col, ax=axes[i], color='green')\n",
        "    axes[i].set_title(f'Boxplot de {col}')\n",
        "    axes[i].set_xlabel('')  # Masquer le label de l'axe x pour plus de clarté\n",
        "\n",
        "# Suppression des axes inutilisés si le nombre de variables n'est pas un multiple de nombre_colonnes\n",
        "for j in range(i + 1, len(axes)):\n",
        "    fig.delaxes(axes[j])\n",
        "\n",
        "# Ajustement de l'espacement entre les subplots\n",
        "plt.tight_layout()\n",
        "plt.show()"
      ]
    },
    {
      "cell_type": "markdown",
      "id": "GA0xxB5Dq2YC",
      "metadata": {
        "id": "GA0xxB5Dq2YC"
      },
      "source": [
        "### Recodage des variables et labelisation"
      ]
    },
    {
      "cell_type": "code",
      "execution_count": null,
      "id": "k3iJSaV8rBV-",
      "metadata": {
        "id": "k3iJSaV8rBV-"
      },
      "outputs": [],
      "source": [
        "data['SalePrice'] = np.log1p(data['SalePrice'])"
      ]
    },
    {
      "cell_type": "code",
      "execution_count": null,
      "id": "TK0KeesksSUp",
      "metadata": {
        "id": "TK0KeesksSUp"
      },
      "outputs": [],
      "source": [
        "data.dtypes[data.dtypes=='object']"
      ]
    },
    {
      "cell_type": "code",
      "execution_count": null,
      "id": "LZL-Vtz-slBq",
      "metadata": {
        "id": "LZL-Vtz-slBq"
      },
      "outputs": [],
      "source": [
        "data.dtypes[data.dtypes !='object']"
      ]
    },
    {
      "cell_type": "code",
      "execution_count": null,
      "id": "UVdBgETvszQh",
      "metadata": {
        "id": "UVdBgETvszQh"
      },
      "outputs": [],
      "source": [
        "def affiche_label(data):\n",
        "        #################### Labellisation des variables catégotielles\n",
        "        # Dictionnaires pour les variables catégorielles\n",
        "    mapp = {\n",
        "        \"QualityScale\": {\n",
        "            'Ex': \"Excellent\",\n",
        "            'Gd': \"Bon\",\n",
        "            'TA': \"Moyen/Typique\",\n",
        "            'Fa': \"Médiocre\",\n",
        "            'Po': \"Mauvais\",\n",
        "            'No': \"Non applicable\"\n",
        "        },\n",
        "\n",
        "        \"ConditionScale\": {\n",
        "            10: \"Très excellent\",\n",
        "            9: \"Excellent\",\n",
        "            8: \"Très bon\",\n",
        "            7: \"Bon\",\n",
        "            6: \"Au-dessus de la moyenne\",\n",
        "            5: \"Moyenne\",\n",
        "            4: \"En dessous de la moyenne\",\n",
        "            3: \"Médiocre\",\n",
        "            2: \"Mauvais\",\n",
        "            1: \"Très mauvais\"\n",
        "        },\n",
        "\n",
        "        # Dictionnaires spécifiques\n",
        "        \"MSSubClass\": {\n",
        "            20: \"1 ÉTAGE 1946 ET PLUS RÉCENT - TOUS STYLES\",\n",
        "            30: \"1 ÉTAGE 1945 ET PLUS ANCIEN\",\n",
        "            40: \"1 ÉTAGE AVEC GRENIER AMÉNAGÉ - TOUS ÂGES\",\n",
        "            45: \"1 ÉTAGE ET DEMI - NON AMÉNAGÉ - TOUS ÂGES\",\n",
        "            50: \"1 ÉTAGE ET DEMI - AMÉNAGÉ - TOUS ÂGES\",\n",
        "            60: \"2 ÉTAGES 1946 ET PLUS RÉCENT\",\n",
        "            70: \"2 ÉTAGES 1945 ET PLUS ANCIEN\",\n",
        "            75: \"2 ÉTAGES ET DEMI - TOUS ÂGES\",\n",
        "            80: \"NIVEAUX MULTIPLES OU PARTIELS\",\n",
        "            85: \"FOYER DIVISÉ\",\n",
        "            90: \"DUPLEX - TOUS STYLES ET ÂGES\",\n",
        "            120: \"1 ÉTAGE PUD (Lotissement planifié) - 1946 ET PLUS RÉCENT\",\n",
        "            150: \"1 ÉTAGE ET DEMI PUD - TOUS ÂGES\",\n",
        "            160: \"2 ÉTAGES PUD - 1946 ET PLUS RÉCENT\",\n",
        "            180: \"PUD MULTI-NIVEAUX - INCLUT NIVEAUX DIVISÉS\",\n",
        "            190: \"CONVERSION 2 FAMILLES - TOUS STYLES ET ÂGES\"\n",
        "        },\n",
        "\n",
        "        \"MSZoning\": {\n",
        "            'A': \"Agriculture\",\n",
        "            'C (all)': \"Commercial\",\n",
        "            'FV': \"Résidentiel flottant\",\n",
        "            'I': \"Industriel\",\n",
        "            'RH': \"Résidentiel haute densité\",\n",
        "            'RL': \"Résidentiel basse densité\",\n",
        "            'RP': \"Résidentiel basse densité (parc)\",\n",
        "            'RM': \"Résidentiel densité moyenne\"\n",
        "        },\n",
        "\n",
        "        \"Street\": {\n",
        "            'Grvl': \"Gravier\",\n",
        "            'Pave': \"Pavé\"\n",
        "        },\n",
        "\n",
        "        \"Alley\": {\n",
        "            'Grvl': \"Gravier\",\n",
        "            'Pave': \"Pavé\",\n",
        "            'No': \"Pas d'accès à une allée\"\n",
        "        },\n",
        "\n",
        "        \"LotShape\": {\n",
        "            'Reg': \"Régulier\",\n",
        "            'IR1': \"Légèrement irrégulier\",\n",
        "            'IR2': \"Modérément irrégulier\",\n",
        "            'IR3': \"Irrégulier\"\n",
        "        },\n",
        "\n",
        "        \"LandContour\": {\n",
        "            'Lvl': \"Plat/Niveau\",\n",
        "            'Bnk': \"Bordure - Montée rapide\",\n",
        "            'HLS': \"En pente - Forte inclinaison\",\n",
        "            'Low': \"Dépression\"\n",
        "        },\n",
        "\n",
        "        \"Utilities\": {\n",
        "            'AllPub': \"Tous les services publics (Électricité, Gaz, Eau, Égout)\",\n",
        "            'NoSewr': \"Électricité, Gaz, Eau (Fosse septique)\",\n",
        "            'NoSeWa': \"Électricité et Gaz uniquement\",\n",
        "            'ELO': \"Électricité uniquement\"\n",
        "        },\n",
        "\n",
        "        \"LotConfig\": {\n",
        "            'Inside': \"Lot intérieur\",\n",
        "            'Corner': \"Lot d'angle\",\n",
        "            'CulDSac': \"Cul-de-sac\",\n",
        "            'FR2': \"Double façade\",\n",
        "            'FR3': \"Triple façade\"\n",
        "        },\n",
        "\n",
        "        \"LandSlope\": {\n",
        "            'Gtl': \"Pente douce\",\n",
        "            'Mod': \"Pente modérée\",\n",
        "            'Sev': \"Pente sévère\"\n",
        "        },\n",
        "\n",
        "        \"Neighborhood\": {\n",
        "            'Blmngtn': \"Bloomington Heights\",\n",
        "            'Blueste': \"Bluestem\",\n",
        "            'BrDale': \"Briardale\",\n",
        "            'BrkSide': \"Brookside\",\n",
        "            'ClearCr': \"Clear Creek\",\n",
        "            'CollgCr': \"College Creek\",\n",
        "            'Crawfor': \"Crawford\",\n",
        "            'Edwards': \"Edwards\",\n",
        "            'Gilbert': \"Gilbert\",\n",
        "            'IDOTRR': \"Iowa DOT et chemin de fer\",\n",
        "            'MeadowV': \"Meadow Village\",\n",
        "            'Mitchel': \"Mitchell\",\n",
        "            'NAmes': \"North Ames\",\n",
        "            'NoRidge': \"Northridge\",\n",
        "            'NPkVill': \"Northpark Villa\",\n",
        "            'NridgHt': \"Northridge Heights\",\n",
        "            'NWAmes': \"Northwest Ames\",\n",
        "            'OldTown': \"Vieille Ville\",\n",
        "            'SWISU': \"Sud et Ouest de l'Université d'État de l'Iowa\",\n",
        "            'Sawyer': \"Sawyer\",\n",
        "            'SawyerW': \"Sawyer Ouest\",\n",
        "            'Somerst': \"Somerset\",\n",
        "            'StoneBr': \"Stone Brook\",\n",
        "            'Timber': \"Timberland\",\n",
        "            'Veenker': \"Veenker\"\n",
        "        },\n",
        "\n",
        "        \"Condition1\": {\n",
        "            'Artery': \"Proche d'une artère principale\",\n",
        "            'Feedr': \"Proche d'une route secondaire\",\n",
        "            'Norm': \"Normale\",\n",
        "            'RRNn': \"À moins de 200 pieds d'une voie ferrée nord-sud\",\n",
        "            'RRAn': \"Adjacente à une voie ferrée nord-sud\",\n",
        "            'PosN': \"Proche d'un espace vert ou parc\",\n",
        "            'PosA': \"Adjacente à un espace vert ou parc\",\n",
        "            'RRNe': \"À moins de 200 pieds d'une voie ferrée est-ouest\",\n",
        "            'RRAe': \"Adjacente à une voie ferrée est-ouest\"\n",
        "        },\n",
        "\n",
        "        \"Condition2\": {\n",
        "            'Artery': \"Proche d'une artère principale\",\n",
        "            'Feedr': \"Proche d'une route secondaire\",\n",
        "            'Norm': \"Normale\",\n",
        "            'RRNn': \"À moins de 200 pieds d'une voie ferrée nord-sud\",\n",
        "            'RRAn': \"Adjacente à une voie ferrée nord-sud\",\n",
        "            'PosN': \"Proche d'un espace vert ou parc\",\n",
        "            'PosA': \"Adjacente à un espace vert ou parc\",\n",
        "            'RRNe': \"À moins de 200 pieds d'une voie ferrée est-ouest\",\n",
        "            'RRAe': \"Adjacente à une voie ferrée est-ouest\"\n",
        "        },\n",
        "\n",
        "        \"BldgType\": {\n",
        "            '1Fam': \"Maison individuelle\",\n",
        "            '2fmCon': \"Conversion deux familles\",\n",
        "            'Duplex': \"Duplex\",\n",
        "            'TwnhsE': \"Maison de ville (bout)\",\n",
        "            'Twnhs': \"Maison de ville (intérieur)\"\n",
        "        },\n",
        "\n",
        "        \"HouseStyle\": {\n",
        "            '1Story': \"Un étage\",\n",
        "            '1.5Fin': \"Un étage et demi, aménagé\",\n",
        "            '1.5Unf': \"Un étage et demi, non aménagé\",\n",
        "            '2Story': \"Deux étages\",\n",
        "            '2.5Fin': \"Deux étages et demi, aménagé\",\n",
        "            '2.5Unf': \"Deux étages et demi, non aménagé\",\n",
        "            'SFoyer': \"Foyer divisé\",\n",
        "            'SLvl': \"Niveaux divisés\"\n",
        "        },\n",
        "\n",
        "        \"FireplaceQu\": {\n",
        "            'Ex': \"Excellent - Cheminée en maçonnerie exceptionnelle\",\n",
        "            'Gd': \"Bon - Cheminée en maçonnerie au rez-de-chaussée\",\n",
        "            'TA': \"Moyen - Préfabriquée ou en maçonnerie au sous-sol\",\n",
        "            'Fa': \"Médiocre - Préfabriquée au sous-sol\",\n",
        "            'Po': \"Mauvais - Poêle de type Ben Franklin\",\n",
        "            'No': \"Pas de cheminée\"\n",
        "        },\n",
        "\n",
        "        \"Fence\": {\n",
        "            'GdPrv': \"Bonne intimité\",\n",
        "            'MnPrv': \"Intimité minimale\",\n",
        "            'GdWo': \"Bonne qualité en bois\",\n",
        "            'MnWw': \"Qualité minimale en bois/fil\",\n",
        "            'No': \"Pas de clôture\"\n",
        "        },\n",
        "\n",
        "        \"PoolQC\": {\n",
        "            'Ex': \"Excellent\",\n",
        "            'Gd': \"Bon\",\n",
        "            'TA': \"Moyen\",\n",
        "            'Fa': \"Médiocre\",\n",
        "            'Po': \"Mauvais\",\n",
        "            'No': \"Non applicable\"\n",
        "        },\n",
        "\n",
        "        \"ExterQual\": {\n",
        "            'Ex': \"Excellent\",\n",
        "            'Gd': \"Bon\",\n",
        "            'TA': \"Moyen\",\n",
        "            'Fa': \"Médiocre\",\n",
        "            'Po': \"Mauvais\",\n",
        "            'No': \"Non applicable\"\n",
        "        },\n",
        "\n",
        "        \"ExterCond\": {\n",
        "            'Ex': \"Excellent\",\n",
        "            'Gd': \"Bon\",\n",
        "            'TA': \"Moyen\",\n",
        "            'Fa': \"Médiocre\",\n",
        "            'Po': \"Mauvais\",\n",
        "            'No': \"Non applicable\"\n",
        "        },\n",
        "\n",
        "        \"BsmtQual\": {\n",
        "            'Ex': \"Excellent\",\n",
        "            'Gd': \"Bon\",\n",
        "            'TA': \"Moyen\",\n",
        "            'Fa': \"Médiocre\",\n",
        "            'Po': \"Mauvais\",\n",
        "            'No': \"Non applicable\"\n",
        "        },\n",
        "\n",
        "        \"BsmtCond\": {\n",
        "            'Ex': \"Excellent\",\n",
        "            'Gd': \"Bon\",\n",
        "            'TA': \"Moyen\",\n",
        "            'Fa': \"Médiocre\",\n",
        "            'Po': \"Mauvais\",\n",
        "            'No': \"Non applicable\"\n",
        "        },\n",
        "\n",
        "        \"HeatingQC\": {\n",
        "            'Ex': \"Excellent\",\n",
        "            'Gd': \"Bon\",\n",
        "            'TA': \"Moyen\",\n",
        "            'Fa': \"Médiocre\",\n",
        "            'Po': \"Mauvais\",\n",
        "            'No': \"Non applicable\"\n",
        "        },\n",
        "\n",
        "        \"KitchenQual\": {\n",
        "            'Ex': \"Excellent\",\n",
        "            'Gd': \"Bon\",\n",
        "            'TA': \"Moyen\",\n",
        "            'Fa': \"Médiocre\",\n",
        "            'Po': \"Mauvais\",\n",
        "            'No': \"Non applicable\"\n",
        "        },\n",
        "\n",
        "        \"GarageQual\": {\n",
        "            'Ex': \"Excellent\",\n",
        "            'Gd': \"Bon\",\n",
        "            'TA': \"Moyen\",\n",
        "            'Fa': \"Médiocre\",\n",
        "            'Po': \"Mauvais\",\n",
        "            'No': \"Non applicable\"\n",
        "        },\n",
        "\n",
        "        \"GarageCond\": {\n",
        "            'Ex': \"Excellent\",\n",
        "            'Gd': \"Bon\",\n",
        "            'TA': \"Moyen\",\n",
        "            'Fa': \"Médiocre\",\n",
        "            'Po': \"Mauvais\",\n",
        "            'No': \"Non applicable\"\n",
        "        },\n",
        "\n",
        "        \"OverallQual\": {\n",
        "            10: \"Très excellent\",\n",
        "            9: \"Excellent\",\n",
        "            8: \"Très bon\",\n",
        "            7: \"Bon\",\n",
        "            6: \"Au-dessus de la moyenne\",\n",
        "            5: \"Moyenne\",\n",
        "            4: \"En dessous de la moyenne\",\n",
        "            3: \"Médiocre\",\n",
        "            2: \"Mauvais\",\n",
        "            1: \"Très mauvais\"\n",
        "        },\n",
        "\n",
        "        \"OverallCond\": {\n",
        "            10: \"Très excellent\",\n",
        "            9: \"Excellent\",\n",
        "            8: \"Très bon\",\n",
        "            7: \"Bon\",\n",
        "            6: \"Au-dessus de la moyenne\",\n",
        "            5: \"Moyenne\",\n",
        "            4: \"En dessous de la moyenne\",\n",
        "            3: \"Médiocre\",\n",
        "            2: \"Mauvais\",\n",
        "            1: \"Très mauvais\"\n",
        "        },\n",
        "        \"RoofStyle\": {\n",
        "            'Gable': \"Pignon\",\n",
        "            'Hip': \"Pente\",\n",
        "            'Mansard': \"Mansardé\",\n",
        "            'Flat': \"Plat\",\n",
        "            'Shed': \"Abri\",\n",
        "            'Gambrel': 'Gabriel (grange)'\n",
        "        },\n",
        "\n",
        "        \"RoofMatl\": {\n",
        "            'ClyTile': 'Tuile ou argile',\n",
        "            'CompShg': 'Bardeau composite standard',\n",
        "            'Membran': 'Membrane',\n",
        "            'Metal': 'Métal',\n",
        "            'Roll': 'Rouleau',\n",
        "            'Tar&Grv': 'Gravier et bitume',\n",
        "            'WdShake': 'Bardeau de bois',\n",
        "            'WdShngl': 'Bardeau en bois'\n",
        "        },\n",
        "\n",
        "        \"Exterior1st\": {\n",
        "            'AsbShng': 'Bardeaux en amiante',\n",
        "            'AsphShn': 'Bardeaux en asphalte',\n",
        "            'BrkComm': 'Brique commune',\n",
        "            'BrkFace': 'Brique apparente',\n",
        "            'CBlock': 'Bloc de béton',\n",
        "            'CemntBd': 'Panneau de ciment',\n",
        "            'HdBoard': 'Panneau dur',\n",
        "            'ImStucc': 'Stuc imitation',\n",
        "            'MetalSd': 'Revêtement métallique',\n",
        "            'Other': 'Autre',\n",
        "            'Plywood': 'Contreplaqué',\n",
        "            'PreCast': 'Préfabriqué',\n",
        "            'Stone': 'Pierre',\n",
        "            'Stucco': 'Stuc',\n",
        "            'VinylSd': 'Revêtement en vinyle',\n",
        "            'Wd Sdng': 'Revêtement en bois',\n",
        "            'WdShing': 'Bardeaux en bois'\n",
        "        },\n",
        "        \"Exterior2nd\": {\n",
        "            'AsbShng': 'Bardeaux en amiante',\n",
        "            'AsphShn': 'Bardeaux en asphalte',\n",
        "            'Brk Cmn': 'Brique commune',\n",
        "            'BrkFace': 'Brique apparente',\n",
        "            'CBlock': 'Bloc de béton',\n",
        "            'CmentBd': 'Panneau de ciment',\n",
        "            'HdBoard': 'Panneau dur',\n",
        "            'ImStucc': 'Stuc imitation',\n",
        "            'MetalSd': 'Revêtement métallique',\n",
        "            'Other': 'Autre',\n",
        "            'Plywood': 'Contreplaqué',\n",
        "            'PreCast': 'Préfabriqué',\n",
        "            'Stone': 'Pierre',\n",
        "            'Stucco': 'Stuc',\n",
        "            'VinylSd': 'Revêtement en vinyle',\n",
        "            'Wd Sdng': 'Revêtement en bois',\n",
        "            'WdShing': 'Bardeaux en bois'\n",
        "        },\n",
        "\n",
        "        \"MasVnrType\": {\n",
        "            'BrkFace': \"Briques en façade\",\n",
        "            'Stone': \"Pierre\",\n",
        "            'No': \"Aucune\",\n",
        "            'BrkCmn': \"Briques communes\"\n",
        "        },\n",
        "\n",
        "        \"Heating\": {\n",
        "            'GasA': 'Chauffage à gaz',\n",
        "            'Grav': 'Gravité',\n",
        "            'Wall': 'Chauffage mural',\n",
        "            'GasW': 'Chauffage à gaz (chaudière)',\n",
        "            'Floor': 'Chauffage par le sol',\n",
        "            'OthW': 'Chauffage à eau chaude ou vapeur (autre que gaz)'\n",
        "        },\n",
        "\n",
        "        \"Electrical\": {\n",
        "            'SBrkr': 'Disjoncteurs',\n",
        "            'FuseA': 'Fusibles anciens',\n",
        "            'FuseF': 'Fusibles',\n",
        "            'FuseP': 'Fusibles et câblage de mauvaise qualité',\n",
        "            'Mix': 'Mixte',\n",
        "            'CircuitBreakers': 'Disjoncteurs modernes',\n",
        "        },\n",
        "\n",
        "        \"BsmtExposure\": {\n",
        "            'No': \"Aucune exposition\",\n",
        "            'Gd': \"Bonne exposition\",\n",
        "            'Mn': \"Exposition moyenne\",\n",
        "            'Av': \"Exposition au niveau moyen\"\n",
        "        },\n",
        "\n",
        "        \"BsmtFinType1\": {\n",
        "            'GLQ': \"Fini - Excellent\",\n",
        "            'ALQ': \"Fini - Moyenne\",\n",
        "            'BLQ': \"Partiellement fini\",\n",
        "            'Unf': \"Non fini\",\n",
        "            'Rec': \"Fini - Salle de jeux\",\n",
        "            'LwQ': \"Fini - Qualité inférieure\"\n",
        "        },\n",
        "\n",
        "        \"GarageType\": {\n",
        "            '2Types': 'Plus d\\'un type de garage',\n",
        "            'Attchd': 'Attaché à la maison',\n",
        "            'Basment': 'Garage au sous-sol',\n",
        "            'BuiltIn': 'Garage intégré (fait partie de la maison, souvent avec une pièce au-dessus)',\n",
        "            'CarPort': 'Abris voiture',\n",
        "            'Detchd': 'Détaché de la maison',\n",
        "            'No': 'Pas de garage'\n",
        "        },\n",
        "        \"GarageFinish\": {\n",
        "            'Fin': \"Aménagé\",\n",
        "            'RFn': \"Partiellement aménagé\",\n",
        "            'Unf': \"Non aménagé\",\n",
        "            'No': \"Pas de garage\"\n",
        "        },\n",
        "        \"SaleType\": {\n",
        "            'WD': 'Acte de garantie - Conventionnel',\n",
        "            'CWD': 'Acte de garantie - Espèces',\n",
        "            'VWD': 'Acte de garantie - Prêt VA',\n",
        "            'New': 'Maison neuve construite et vendue',\n",
        "            'COD': 'Acte de l\\'officier judiciaire/Etat',\n",
        "            'Con': 'Contrat - 15% acompte, conditions normales',\n",
        "            'ConLw': 'Contrat - Acompte faible et faible taux d\\'intérêt',\n",
        "            'ConLI': 'Contrat - Faible taux d\\'intérêt',\n",
        "            'ConLD': 'Contrat - Acompte faible',\n",
        "            'Oth': 'Autre'\n",
        "        },\n",
        "\n",
        "        \"SaleCondition\": {\n",
        "            'Normal': 'Vente normale',\n",
        "            'Abnorml': 'Vente anormale',\n",
        "            'AdjLand': 'Achat terrain adjoint',\n",
        "            'Alloca': 'Allocation (propriétés liées)',\n",
        "            'Family': 'Vente entre membres de la famille',\n",
        "            'Partial': 'Maison incomplète'\n",
        "        },\n",
        "\n",
        "        \"CentralAir\": {\n",
        "            'Y': \"Oui\",\n",
        "            'N': \"Non\"\n",
        "        },\n",
        "\n",
        "        \"PavedDrive\": {\n",
        "            'Y': \"Pavé\",\n",
        "            'P': \"Pavement partiel\",\n",
        "            'N': \"Gravier/Terre\"\n",
        "        },\n",
        "\n",
        "        \"MoSold\": {\n",
        "            1: \"Janvier\",\n",
        "            2: \"Février\",\n",
        "            3: \"Mars\",\n",
        "            4: \"Avril\",\n",
        "            5: \"Mai\",\n",
        "            6: \"Juin\",\n",
        "            7: \"Juillet\",\n",
        "            8: \"Août\",\n",
        "            9: \"Septembre\",\n",
        "            10: \"Octobre\",\n",
        "            11: \"Novembre\",\n",
        "            12: \"Décembre\"\n",
        "        }\n",
        "\n",
        "}\n",
        "\n",
        "    for el in data.columns:\n",
        "        if el in mapp:  # Vérifier si la colonne est dans le dictionnaire\n",
        "            data[el] = data[el].map(mapp[el])\n",
        "        else:\n",
        "            print(el)\n",
        "\n",
        "    ####### Renommage des colonnes ########################\n",
        "    labels = {\n",
        "        'Id': 'Identifiant',\n",
        "        'MSSubClass': 'Type de logement',\n",
        "        'MSZoning': 'Zonage (Classification)',\n",
        "        'LotFrontage': 'Façade (en pieds)',\n",
        "        'LotArea': 'Superficie du lot (pieds²)',\n",
        "        'Street': 'Type de route',\n",
        "        'Alley': 'Accès à une allée',\n",
        "        'LotShape': 'Forme du lot',\n",
        "        'LandContour': 'Topographie du terrain',\n",
        "        'Utilities': 'Services publics disponibles',\n",
        "        'LotConfig': 'Configuration du lot',\n",
        "        'LandSlope': 'Inclinaison du terrain',\n",
        "        'Neighborhood': 'Quartier',\n",
        "        'Condition1': 'Proximité (1ère condition)',\n",
        "        'Condition2': 'Proximité (2e condition)',\n",
        "        'BldgType': 'Type de bâtiment',\n",
        "        'HouseStyle': 'Style de maison',\n",
        "        'OverallQual': 'Qualité globale',\n",
        "        'OverallCond': 'État général',\n",
        "        'YearBuilt': 'Année de construction',\n",
        "        'YearRemodAdd': 'Année de rénovation',\n",
        "        'RoofStyle': 'Style de toit',\n",
        "        'RoofMatl': 'Matériau du toit',\n",
        "        'Exterior1st': 'Revêtement extérieur (1)',\n",
        "        'Exterior2nd': 'Revêtement extérieur (2)',\n",
        "        'MasVnrType': 'Type de parement en maçonnerie',\n",
        "        'MasVnrArea': 'Surface de parement (pieds²)',\n",
        "        'ExterQual': 'Qualité extérieure',\n",
        "        'ExterCond': 'État extérieur',\n",
        "        'Foundation': 'Type de fondation',\n",
        "        'BsmtQual': 'Qualité du sous-sol',\n",
        "        'BsmtCond': 'État général du sous-sol',\n",
        "        'BsmtExposure': 'Exposition du sous-sol',\n",
        "        'BsmtFinType1': 'Type de finition sous-sol (1)',\n",
        "        'BsmtFinSF1': 'Surface finie sous-sol',\n",
        "        'BsmtFinType2': 'Type de finition sous-sol (2)',\n",
        "        'BsmtFinSF2': 'Surface finie sous-sol 2',\n",
        "        'BsmtUnfSF': 'Surface non finie sous-sol',\n",
        "        'TotalBsmtSF': 'Total surface sous-sol',\n",
        "        'Heating': 'Type de chauffage',\n",
        "        'HeatingQC': 'Qualité du chauffage',\n",
        "        'CentralAir': 'Climatisation centrale',\n",
        "        'Electrical': 'Système électrique',\n",
        "        '1stFlrSF': 'Surface du premier étage',\n",
        "        '2ndFlrSF': 'Surface du deuxième étage',\n",
        "        'LowQualFinSF': 'Surface finie basse qualité (pieds²)',\n",
        "        'GrLivArea': 'Surface habitable totale',\n",
        "        'BsmtFullBath': 'Salles de bain complètes sous-sol',\n",
        "        'BsmtHalfBath': 'Demi-salles de bain sous-sol',\n",
        "        'FullBath': 'Salles de bain complètes',\n",
        "        'HalfBath': 'Demi-salles de bain',\n",
        "        'BedroomAbvGr': 'Chambres (hors sous-sol)',\n",
        "        'KitchenAbvGr': 'Cuisines (hors sous-sol)',\n",
        "        'KitchenQual': 'Qualité de la cuisine',\n",
        "        'TotRmsAbvGrd': 'Total des pièces (hors sous-sol)',\n",
        "        'Functional': 'Fonctionnalité globale',\n",
        "        'Fireplaces': 'Nombre de cheminées',\n",
        "        'FireplaceQu': 'Qualité de la cheminée',\n",
        "        'GarageType': 'Type de garage',\n",
        "        'GarageYrBlt': 'Année de construction du garage',\n",
        "        'GarageFinish': 'Finition intérieure du garage',\n",
        "        'GarageCars': 'Capacité du garage (voitures)',\n",
        "        'GarageArea': 'Surface du garage',\n",
        "        'GarageQual': 'Qualité du garage',\n",
        "        'GarageCond': 'Condition du garage',\n",
        "        'PavedDrive': 'Allée pavée',\n",
        "        'WoodDeckSF': 'Surface du deck en bois',\n",
        "        'OpenPorchSF': 'Surface du porche ouvert',\n",
        "        'EnclosedPorch': 'Porche fermé',\n",
        "        '3SsnPorch': 'Porche trois saisons',\n",
        "        'ScreenPorch': 'Porche screen',\n",
        "        'PoolArea': 'Surface de la piscine (pieds²)',\n",
        "        'PoolQC': 'Qualité de la piscine',\n",
        "        'Fence': 'Clôture',\n",
        "        'MiscFeature': 'Caractéristiques supplémentaires',\n",
        "        'MiscVal': 'Valeur des caractéristiques supplémentaires',\n",
        "        'MoSold': 'Mois de vente',\n",
        "        'YrSold': 'Année de vente',\n",
        "        'SaleType': 'Type de vente',\n",
        "        'SaleCondition': 'Condition de la vente',\n",
        "        'SalePrice': 'Prix de vente',\n",
        "        'houseage': 'Âge de la maison',\n",
        "        'houseremodelage': 'Rénovation de la maison',\n",
        "        'totalsf': 'Surface totale (pieds²)',\n",
        "        'totalarea': 'Surface totale',\n",
        "        'totalbaths': 'Total des salles de bain',\n",
        "        'totalporchsf': 'Surface totale des porches (pieds²)'\n",
        "    }\n",
        "\n",
        "    for ancien_nom, nouveau_nom in labels.items():\n",
        "        if ancien_nom in data.columns:\n",
        "            data = data.rename(columns={ancien_nom: nouveau_nom})\n",
        "\n",
        "    return data"
      ]
    },
    {
      "cell_type": "code",
      "execution_count": null,
      "id": "3XS6cCcXtET7",
      "metadata": {
        "id": "3XS6cCcXtET7"
      },
      "outputs": [],
      "source": [
        "data.Exterior2nd.unique()"
      ]
    },
    {
      "cell_type": "code",
      "execution_count": null,
      "id": "Utqifn_Qt6wF",
      "metadata": {
        "id": "Utqifn_Qt6wF"
      },
      "outputs": [],
      "source": [
        "data_to_label=data"
      ]
    },
    {
      "cell_type": "code",
      "execution_count": null,
      "id": "dzxnlGuftmZV",
      "metadata": {
        "id": "dzxnlGuftmZV"
      },
      "outputs": [],
      "source": [
        "data_labelled=affiche_label(data_to_label)"
      ]
    },
    {
      "cell_type": "code",
      "execution_count": null,
      "id": "-_MR5O3puVO6",
      "metadata": {
        "id": "-_MR5O3puVO6"
      },
      "outputs": [],
      "source": [
        "data_labelled.head()"
      ]
    },
    {
      "cell_type": "markdown",
      "id": "79c8d037",
      "metadata": {
        "id": "79c8d037"
      },
      "source": [
        "### Exportation de la base apurée pour la modélisation"
      ]
    },
    {
      "cell_type": "code",
      "source": [
        "data_labelled.info()"
      ],
      "metadata": {
        "id": "YnvpYqZgiyiL"
      },
      "id": "YnvpYqZgiyiL",
      "execution_count": null,
      "outputs": []
    },
    {
      "cell_type": "code",
      "execution_count": null,
      "id": "9ea90c8f",
      "metadata": {
        "id": "9ea90c8f"
      },
      "outputs": [],
      "source": [
        "# Exporter le DataFrame vers un fichier CSV avec une virgule comme séparateur\n",
        "from google.colab import files\n",
        "\n",
        "# Save the DataFrame to a CSV file\n",
        "data.to_csv('data_apuree.csv', index=False) # Add this line to save the DataFrame\n",
        "\n",
        "# Téléchargement du fichier CSV\n",
        "files.download('data_apuree.csv')\n"
      ]
    }
  ],
  "metadata": {
    "colab": {
      "provenance": []
    },
    "kernelspec": {
      "display_name": "Python 3",
      "language": "python",
      "name": "python3"
    },
    "language_info": {
      "codemirror_mode": {
        "name": "ipython",
        "version": 3
      },
      "file_extension": ".py",
      "mimetype": "text/x-python",
      "name": "python",
      "nbconvert_exporter": "python",
      "pygments_lexer": "ipython3",
      "version": "3.12.8"
    }
  },
  "nbformat": 4,
  "nbformat_minor": 5
}